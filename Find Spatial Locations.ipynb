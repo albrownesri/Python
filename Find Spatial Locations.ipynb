{
 "cells": [
  {
   "cell_type": "markdown",
   "metadata": {},
   "source": [
    "# Find Spatial Locations\n",
    "# Buffer a point, return all data within spatial geometry of buffer"
   ]
  },
  {
   "cell_type": "code",
   "execution_count": 1,
   "metadata": {},
   "outputs": [],
   "source": [
    "# import libraries\n",
    "import getpass\n",
    "from arcgis.gis import *\n",
    "from arcgis import geometry\n",
    "from arcgis import features\n"
   ]
  },
  {
   "cell_type": "code",
   "execution_count": 2,
   "metadata": {},
   "outputs": [
    {
     "name": "stdout",
     "output_type": "stream",
     "text": [
      "········\n"
     ]
    }
   ],
   "source": [
    "# Utilize getpass for password management in Jupyter notebooks\n",
    "password = getpass.getpass()"
   ]
  },
  {
   "cell_type": "code",
   "execution_count": 8,
   "metadata": {},
   "outputs": [
    {
     "data": {
      "text/html": [
       "GIS @ <a href=\"https://neenterprise.esri.com/portal\">https://neenterprise.esri.com/portal</a>"
      ],
      "text/plain": [
       "GIS @ https://neenterprise.esri.com/portal version:6.1"
      ]
     },
     "execution_count": 8,
     "metadata": {},
     "output_type": "execute_result"
    }
   ],
   "source": [
    "# Connect to GIS\n",
    "# gis = GIS('http://www.arcgis.com', 'abrown_citygov', password)\n",
    "gis = GIS('https://neenterprise.esri.com/portal', 'abrown', password)\n",
    "gis"
   ]
  },
  {
   "cell_type": "code",
   "execution_count": 9,
   "metadata": {},
   "outputs": [
    {
     "data": {
      "text/plain": [
       "<FeatureSet> 1 features"
      ]
     },
     "execution_count": 9,
     "metadata": {},
     "output_type": "execute_result"
    }
   ],
   "source": [
    "# Manually create a point\n",
    "pt_coords = features.feature.Point({\"x\" : -75.127341, \"y\" : 39.981295, \"spatialReference\" : {\"wkid\" : 4326}})\n",
    "pt = geometry.Point(pt_coords)\n",
    "feat = features.Feature(geometry=pt, attributes={'OBJECTID': 1,\n",
    "                                                        'name': 'Test_point',\n",
    "                                                        'type': 'Feature'})\n",
    "\n",
    "# Convert the feature into a feature set to utilize in geoprocessing tools\n",
    "fset = features.FeatureSet([feat])\n",
    "fset"
   ]
  },
  {
   "cell_type": "code",
   "execution_count": 10,
   "metadata": {},
   "outputs": [],
   "source": [
    "# Search for Philadelphia Redacted Crime, put query directly in search\n",
    "crime_s = gis.content.search(\"title:PhillyCrime\", item_type=\"Feature Service\")\n",
    "incidents_service = crime_s[0]\n",
    "incident_layers = incidents_service.layers\n",
    "incidents = incident_layers[0]"
   ]
  },
  {
   "cell_type": "code",
   "execution_count": 11,
   "metadata": {},
   "outputs": [
    {
     "data": {
      "application/vnd.jupyter.widget-view+json": {
       "model_id": "efff85efe6194a3bbe20460592fe2a3e",
       "version_major": 2,
       "version_minor": 0
      },
      "text/plain": [
       "MapView(layout=Layout(height='400px', width='100%'))"
      ]
     },
     "metadata": {},
     "output_type": "display_data"
    },
    {
     "data": {
      "text/html": [
       "<div class=\"map-static-img-preview-c600cb07-39c1-49d5-b1c4-d6bcebe70a48\"><img src=\"\"></img></div>"
      ],
      "text/plain": [
       "<IPython.core.display.HTML object>"
      ]
     },
     "metadata": {},
     "output_type": "display_data"
    }
   ],
   "source": [
    "# Create a map object, add layers then visualize\n",
    "map_1 = gis.map(\"2143 York Street, Philadelphia, PA 19125\")\n",
    "map_1.add_layer(incidents)\n",
    "map_1.add_layer(fset)\n",
    "map_1"
   ]
  },
  {
   "cell_type": "code",
   "execution_count": 12,
   "metadata": {},
   "outputs": [],
   "source": [
    "# Buffer the point\n",
    "point_buff = features.use_proximity.create_buffers(fset.to_dict(), distances=[0.1], units = 'Miles')\n",
    "map_1.add_layer(point_buff)"
   ]
  },
  {
   "cell_type": "code",
   "execution_count": 13,
   "metadata": {},
   "outputs": [],
   "source": [
    "# Run summarize within tool to look at how many points fall within the boundary.\n",
    "output = features.analysis.summarize_within(sum_within_layer=point_buff, summary_layer=incidents, sum_shape=True, \n",
    "                                   summary_fields=[], group_by_field='text_gener', minority_majority=False, \n",
    "                                   percent_shape=False, output_name=None, context=None, gis=None)"
   ]
  },
  {
   "cell_type": "code",
   "execution_count": 14,
   "metadata": {},
   "outputs": [
    {
     "name": "stdout",
     "output_type": "stream",
     "text": [
      "{'result_layer': <FeatureCollection>, 'group_by_summary': <FeatureCollection>}\n",
      "<class 'dict'>\n"
     ]
    }
   ],
   "source": [
    "# The output of the summarize within did not specifify an output_name, the result is a dictionary.  Grab the dictionary keys\n",
    "# to separate both the total numbers and grouped values.\n",
    "print(output)\n",
    "print(type(output))\n",
    "# Return just FeatureCollection\n",
    "final = output.get('result_layer')\n",
    "related = output.get('group_by_summary')"
   ]
  },
  {
   "cell_type": "code",
   "execution_count": 19,
   "metadata": {},
   "outputs": [
    {
     "data": {
      "text/plain": [
       "<FeatureSet> 1 features"
      ]
     },
     "execution_count": 19,
     "metadata": {},
     "output_type": "execute_result"
    }
   ],
   "source": [
    "# FeatureCollections are different than FeatureLayerCollections; unless one saves the layer using output_name\n",
    "# a where clause cannot be utilized.\n",
    "finallayers = final.query()\n",
    "finallayers"
   ]
  },
  {
   "cell_type": "code",
   "execution_count": 20,
   "metadata": {},
   "outputs": [
    {
     "data": {
      "text/html": [
       "<div>\n",
       "<style scoped>\n",
       "    .dataframe tbody tr th:only-of-type {\n",
       "        vertical-align: middle;\n",
       "    }\n",
       "\n",
       "    .dataframe tbody tr th {\n",
       "        vertical-align: top;\n",
       "    }\n",
       "\n",
       "    .dataframe thead th {\n",
       "        text-align: right;\n",
       "    }\n",
       "</style>\n",
       "<table border=\"1\" class=\"dataframe\">\n",
       "  <thead>\n",
       "    <tr style=\"text-align: right;\">\n",
       "      <th></th>\n",
       "      <th>AnalysisArea</th>\n",
       "      <th>BUFF_DIST</th>\n",
       "      <th>Join_ID</th>\n",
       "      <th>OBJECTID</th>\n",
       "      <th>ORIG_FID</th>\n",
       "      <th>Point_Count</th>\n",
       "      <th>SHAPE</th>\n",
       "      <th>name</th>\n",
       "      <th>type</th>\n",
       "    </tr>\n",
       "  </thead>\n",
       "  <tbody>\n",
       "    <tr>\n",
       "      <th>0</th>\n",
       "      <td>0.081325</td>\n",
       "      <td>0.1</td>\n",
       "      <td>1</td>\n",
       "      <td>1</td>\n",
       "      <td>1</td>\n",
       "      <td>228</td>\n",
       "      <td>{\"rings\": [[[-75.12734031650234, 39.9827442170...</td>\n",
       "      <td>Test_point</td>\n",
       "      <td>Feature</td>\n",
       "    </tr>\n",
       "  </tbody>\n",
       "</table>\n",
       "</div>"
      ],
      "text/plain": [
       "   AnalysisArea  BUFF_DIST  Join_ID  OBJECTID  ORIG_FID  Point_Count  \\\n",
       "0      0.081325        0.1        1         1         1          228   \n",
       "\n",
       "                                               SHAPE        name     type  \n",
       "0  {\"rings\": [[[-75.12734031650234, 39.9827442170...  Test_point  Feature  "
      ]
     },
     "execution_count": 20,
     "metadata": {},
     "output_type": "execute_result"
    }
   ],
   "source": [
    "# Show query results in data table\n",
    "finallayers.sdf"
   ]
  },
  {
   "cell_type": "code",
   "execution_count": 21,
   "metadata": {},
   "outputs": [
    {
     "data": {
      "text/plain": [
       "<FeatureSet> 23 features"
      ]
     },
     "execution_count": 21,
     "metadata": {},
     "output_type": "execute_result"
    }
   ],
   "source": [
    "# FeatureCollections are different than FeatureLayerCollections; unless one saves the layer using output_name\n",
    "# a where clause cannot be utilized.\n",
    "relatedlayers = related.query()\n",
    "relatedlayers"
   ]
  },
  {
   "cell_type": "code",
   "execution_count": 22,
   "metadata": {},
   "outputs": [
    {
     "data": {
      "text/html": [
       "<div>\n",
       "<style scoped>\n",
       "    .dataframe tbody tr th:only-of-type {\n",
       "        vertical-align: middle;\n",
       "    }\n",
       "\n",
       "    .dataframe tbody tr th {\n",
       "        vertical-align: top;\n",
       "    }\n",
       "\n",
       "    .dataframe thead th {\n",
       "        text-align: right;\n",
       "    }\n",
       "</style>\n",
       "<table border=\"1\" class=\"dataframe\">\n",
       "  <thead>\n",
       "    <tr style=\"text-align: right;\">\n",
       "      <th></th>\n",
       "      <th>Join_ID</th>\n",
       "      <th>OBJECTID</th>\n",
       "      <th>Point_Count</th>\n",
       "      <th>objectid_1</th>\n",
       "      <th>text_gener</th>\n",
       "    </tr>\n",
       "  </thead>\n",
       "  <tbody>\n",
       "    <tr>\n",
       "      <th>0</th>\n",
       "      <td>1</td>\n",
       "      <td>1</td>\n",
       "      <td>2</td>\n",
       "      <td>1</td>\n",
       "      <td>Aggravated Assault Firearm</td>\n",
       "    </tr>\n",
       "    <tr>\n",
       "      <th>1</th>\n",
       "      <td>1</td>\n",
       "      <td>2</td>\n",
       "      <td>7</td>\n",
       "      <td>2</td>\n",
       "      <td>Aggravated Assault No Firearm</td>\n",
       "    </tr>\n",
       "    <tr>\n",
       "      <th>2</th>\n",
       "      <td>1</td>\n",
       "      <td>3</td>\n",
       "      <td>44</td>\n",
       "      <td>3</td>\n",
       "      <td>All Other Offenses</td>\n",
       "    </tr>\n",
       "    <tr>\n",
       "      <th>3</th>\n",
       "      <td>1</td>\n",
       "      <td>4</td>\n",
       "      <td>1</td>\n",
       "      <td>4</td>\n",
       "      <td>Arson</td>\n",
       "    </tr>\n",
       "    <tr>\n",
       "      <th>4</th>\n",
       "      <td>1</td>\n",
       "      <td>5</td>\n",
       "      <td>4</td>\n",
       "      <td>5</td>\n",
       "      <td>Burglary Non-Residential</td>\n",
       "    </tr>\n",
       "    <tr>\n",
       "      <th>5</th>\n",
       "      <td>1</td>\n",
       "      <td>6</td>\n",
       "      <td>17</td>\n",
       "      <td>6</td>\n",
       "      <td>Burglary Residential</td>\n",
       "    </tr>\n",
       "    <tr>\n",
       "      <th>6</th>\n",
       "      <td>1</td>\n",
       "      <td>7</td>\n",
       "      <td>5</td>\n",
       "      <td>7</td>\n",
       "      <td>Disorderly Conduct</td>\n",
       "    </tr>\n",
       "    <tr>\n",
       "      <th>7</th>\n",
       "      <td>1</td>\n",
       "      <td>8</td>\n",
       "      <td>10</td>\n",
       "      <td>8</td>\n",
       "      <td>DRIVING UNDER THE INFLUENCE</td>\n",
       "    </tr>\n",
       "    <tr>\n",
       "      <th>8</th>\n",
       "      <td>1</td>\n",
       "      <td>9</td>\n",
       "      <td>2</td>\n",
       "      <td>9</td>\n",
       "      <td>Forgery and Counterfeiting</td>\n",
       "    </tr>\n",
       "    <tr>\n",
       "      <th>9</th>\n",
       "      <td>1</td>\n",
       "      <td>10</td>\n",
       "      <td>13</td>\n",
       "      <td>10</td>\n",
       "      <td>Fraud</td>\n",
       "    </tr>\n",
       "    <tr>\n",
       "      <th>10</th>\n",
       "      <td>1</td>\n",
       "      <td>11</td>\n",
       "      <td>6</td>\n",
       "      <td>11</td>\n",
       "      <td>Motor Vehicle Theft</td>\n",
       "    </tr>\n",
       "    <tr>\n",
       "      <th>11</th>\n",
       "      <td>1</td>\n",
       "      <td>12</td>\n",
       "      <td>3</td>\n",
       "      <td>12</td>\n",
       "      <td>Narcotic / Drug Law Violations</td>\n",
       "    </tr>\n",
       "    <tr>\n",
       "      <th>12</th>\n",
       "      <td>1</td>\n",
       "      <td>13</td>\n",
       "      <td>22</td>\n",
       "      <td>13</td>\n",
       "      <td>Other Assaults</td>\n",
       "    </tr>\n",
       "    <tr>\n",
       "      <th>13</th>\n",
       "      <td>1</td>\n",
       "      <td>14</td>\n",
       "      <td>3</td>\n",
       "      <td>14</td>\n",
       "      <td>Other Sex Offenses (Not Commercialized)</td>\n",
       "    </tr>\n",
       "    <tr>\n",
       "      <th>14</th>\n",
       "      <td>1</td>\n",
       "      <td>15</td>\n",
       "      <td>1</td>\n",
       "      <td>15</td>\n",
       "      <td>Rape</td>\n",
       "    </tr>\n",
       "    <tr>\n",
       "      <th>15</th>\n",
       "      <td>1</td>\n",
       "      <td>16</td>\n",
       "      <td>14</td>\n",
       "      <td>16</td>\n",
       "      <td>Recovered Stolen Motor Vehicle</td>\n",
       "    </tr>\n",
       "    <tr>\n",
       "      <th>16</th>\n",
       "      <td>1</td>\n",
       "      <td>17</td>\n",
       "      <td>5</td>\n",
       "      <td>17</td>\n",
       "      <td>Robbery Firearm</td>\n",
       "    </tr>\n",
       "    <tr>\n",
       "      <th>17</th>\n",
       "      <td>1</td>\n",
       "      <td>18</td>\n",
       "      <td>4</td>\n",
       "      <td>18</td>\n",
       "      <td>Robbery No Firearm</td>\n",
       "    </tr>\n",
       "    <tr>\n",
       "      <th>18</th>\n",
       "      <td>1</td>\n",
       "      <td>19</td>\n",
       "      <td>20</td>\n",
       "      <td>19</td>\n",
       "      <td>Theft from Vehicle</td>\n",
       "    </tr>\n",
       "    <tr>\n",
       "      <th>19</th>\n",
       "      <td>1</td>\n",
       "      <td>20</td>\n",
       "      <td>19</td>\n",
       "      <td>20</td>\n",
       "      <td>Thefts</td>\n",
       "    </tr>\n",
       "    <tr>\n",
       "      <th>20</th>\n",
       "      <td>1</td>\n",
       "      <td>21</td>\n",
       "      <td>1</td>\n",
       "      <td>21</td>\n",
       "      <td>Vagrancy/Loitering</td>\n",
       "    </tr>\n",
       "    <tr>\n",
       "      <th>21</th>\n",
       "      <td>1</td>\n",
       "      <td>22</td>\n",
       "      <td>23</td>\n",
       "      <td>22</td>\n",
       "      <td>Vandalism/Criminal Mischief</td>\n",
       "    </tr>\n",
       "    <tr>\n",
       "      <th>22</th>\n",
       "      <td>1</td>\n",
       "      <td>23</td>\n",
       "      <td>2</td>\n",
       "      <td>23</td>\n",
       "      <td>Weapon Violations</td>\n",
       "    </tr>\n",
       "  </tbody>\n",
       "</table>\n",
       "</div>"
      ],
      "text/plain": [
       "    Join_ID  OBJECTID  Point_Count  objectid_1  \\\n",
       "0         1         1            2           1   \n",
       "1         1         2            7           2   \n",
       "2         1         3           44           3   \n",
       "3         1         4            1           4   \n",
       "4         1         5            4           5   \n",
       "5         1         6           17           6   \n",
       "6         1         7            5           7   \n",
       "7         1         8           10           8   \n",
       "8         1         9            2           9   \n",
       "9         1        10           13          10   \n",
       "10        1        11            6          11   \n",
       "11        1        12            3          12   \n",
       "12        1        13           22          13   \n",
       "13        1        14            3          14   \n",
       "14        1        15            1          15   \n",
       "15        1        16           14          16   \n",
       "16        1        17            5          17   \n",
       "17        1        18            4          18   \n",
       "18        1        19           20          19   \n",
       "19        1        20           19          20   \n",
       "20        1        21            1          21   \n",
       "21        1        22           23          22   \n",
       "22        1        23            2          23   \n",
       "\n",
       "                                 text_gener  \n",
       "0                Aggravated Assault Firearm  \n",
       "1             Aggravated Assault No Firearm  \n",
       "2                        All Other Offenses  \n",
       "3                                     Arson  \n",
       "4                  Burglary Non-Residential  \n",
       "5                      Burglary Residential  \n",
       "6                        Disorderly Conduct  \n",
       "7               DRIVING UNDER THE INFLUENCE  \n",
       "8                Forgery and Counterfeiting  \n",
       "9                                     Fraud  \n",
       "10                      Motor Vehicle Theft  \n",
       "11           Narcotic / Drug Law Violations  \n",
       "12                           Other Assaults  \n",
       "13  Other Sex Offenses (Not Commercialized)  \n",
       "14                                     Rape  \n",
       "15           Recovered Stolen Motor Vehicle  \n",
       "16                          Robbery Firearm  \n",
       "17                       Robbery No Firearm  \n",
       "18                       Theft from Vehicle  \n",
       "19                                   Thefts  \n",
       "20                       Vagrancy/Loitering  \n",
       "21              Vandalism/Criminal Mischief  \n",
       "22                        Weapon Violations  "
      ]
     },
     "execution_count": 22,
     "metadata": {},
     "output_type": "execute_result"
    }
   ],
   "source": [
    "# Show query results in data table\n",
    "relatedlayers.sdf"
   ]
  },
  {
   "cell_type": "code",
   "execution_count": 23,
   "metadata": {},
   "outputs": [
    {
     "data": {
      "application/vnd.jupyter.widget-view+json": {
       "model_id": "8980dbae8826426cb8c9a2e7312058a4",
       "version_major": 2,
       "version_minor": 0
      },
      "text/plain": [
       "MapView(layout=Layout(height='400px', width='100%'))"
      ]
     },
     "metadata": {},
     "output_type": "display_data"
    },
    {
     "data": {
      "text/html": [
       "<div class=\"map-static-img-preview-65779179-db87-4138-a9bc-c9e2dac2b4b2\"><img src=\"\"></img></div>"
      ],
      "text/plain": [
       "<IPython.core.display.HTML object>"
      ]
     },
     "metadata": {},
     "output_type": "display_data"
    }
   ],
   "source": [
    "# Create a second map object for clarity\n",
    "map_2 = gis.map(\"2143 York Street, Philadelphia, PA 19125\")\n",
    "map_2.add_layer(finallayers)\n",
    "map_2"
   ]
  },
  {
   "cell_type": "code",
   "execution_count": null,
   "metadata": {},
   "outputs": [],
   "source": []
  }
 ],
 "metadata": {
  "kernelspec": {
   "display_name": "Python 3",
   "language": "python",
   "name": "python3"
  },
  "language_info": {
   "codemirror_mode": {
    "name": "ipython",
    "version": 3
   },
   "file_extension": ".py",
   "mimetype": "text/x-python",
   "name": "python",
   "nbconvert_exporter": "python",
   "pygments_lexer": "ipython3",
   "version": "3.6.6"
  }
 },
 "nbformat": 4,
 "nbformat_minor": 2
}
