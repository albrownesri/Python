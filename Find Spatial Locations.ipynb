{
 "cells": [
  {
   "cell_type": "markdown",
   "metadata": {},
   "source": [
    "# Find Spatial Locations\n",
    "# Buffer a point, return all data within spatial geometry of buffer"
   ]
  },
  {
   "cell_type": "code",
   "execution_count": 1,
   "metadata": {},
   "outputs": [],
   "source": [
    "# import libraries\n",
    "import getpass\n",
    "from arcgis.gis import *\n",
    "from arcgis import geometry\n",
    "from arcgis import features\n"
   ]
  },
  {
   "cell_type": "code",
   "execution_count": 2,
   "metadata": {},
   "outputs": [
    {
     "name": "stdout",
     "output_type": "stream",
     "text": [
      "········\n"
     ]
    }
   ],
   "source": [
    "# Utilize getpass for password management in Jupyter notebooks\n",
    "password = getpass.getpass()"
   ]
  },
  {
   "cell_type": "code",
   "execution_count": 3,
   "metadata": {},
   "outputs": [
    {
     "data": {
      "text/html": [
       "GIS @ <a href=\"http://citygov.maps.arcgis.com\">http://citygov.maps.arcgis.com</a>"
      ],
      "text/plain": [
       "GIS @ http://citygov.maps.arcgis.com version:6.4"
      ]
     },
     "execution_count": 3,
     "metadata": {},
     "output_type": "execute_result"
    }
   ],
   "source": [
    "# Connect to GIS\n",
    "gis = GIS('http://www.arcgis.com', 'abrown_citygov', password)\n",
    "gis"
   ]
  },
  {
   "cell_type": "code",
   "execution_count": 4,
   "metadata": {},
   "outputs": [
    {
     "data": {
      "text/plain": [
       "<FeatureSet> 1 features"
      ]
     },
     "execution_count": 4,
     "metadata": {},
     "output_type": "execute_result"
    }
   ],
   "source": [
    "# Manually create a point\n",
    "pt_coords = features.feature.Point({\"x\" : -75.127341, \"y\" : 39.981295, \"spatialReference\" : {\"wkid\" : 4326}})\n",
    "pt = geometry.Point(pt_coords)\n",
    "feat = features.Feature(geometry=pt, attributes={'OBJECTID': 1,\n",
    "                                                        'name': 'Test_point',\n",
    "                                                        'type': 'Feature'})\n",
    "\n",
    "# Convert the feature into a feature set to utilize in geoprocessing tools\n",
    "fset = features.FeatureSet([feat])\n",
    "fset"
   ]
  },
  {
   "cell_type": "code",
   "execution_count": 5,
   "metadata": {},
   "outputs": [],
   "source": [
    "# Search for Philadelphia Redacted Crime, put query directly in search\n",
    "crime_s = gis.content.search(\"title:PhillyCrime\", item_type=\"Feature Service\")\n",
    "incidents_service = crime_s[0]\n",
    "incident_layers = incidents_service.layers\n",
    "incidents = incident_layers[0]"
   ]
  },
  {
   "cell_type": "code",
   "execution_count": 50,
   "metadata": {},
   "outputs": [
    {
     "data": {
      "application/vnd.jupyter.widget-view+json": {
       "model_id": "77dcb5a26cbe492b9e8fb2161bb0b1c8",
       "version_major": 2,
       "version_minor": 0
      },
      "text/plain": [
       "MapView(layout=Layout(height='400px', width='100%'))"
      ]
     },
     "metadata": {},
     "output_type": "display_data"
    },
    {
     "data": {
      "text/html": [
       "<div class=\"map-static-img-preview-d5e2d728-0b23-4550-91d0-cf2e71c8ca41\"><img src=\"\"></img></div>"
      ],
      "text/plain": [
       "<IPython.core.display.HTML object>"
      ]
     },
     "metadata": {},
     "output_type": "display_data"
    }
   ],
   "source": [
    "# Create a map object, add layers then visualize\n",
    "map_1 = gis.map(\"2143 York Street, Philadelphia, PA 19125\")\n",
    "map_1.add_layer(incidents)\n",
    "map_1.add_layer(fset)\n",
    "map_1"
   ]
  },
  {
   "cell_type": "code",
   "execution_count": 15,
   "metadata": {},
   "outputs": [],
   "source": [
    "# Buffer the point\n",
    "point_buff = features.use_proximity.create_buffers(fset.to_dict(), distances=[0.1], units = 'Miles')\n",
    "map_1.add_layer(point_buff)"
   ]
  },
  {
   "cell_type": "code",
   "execution_count": 21,
   "metadata": {},
   "outputs": [],
   "source": [
    "# Run summarize within tool to look at how many points fall within the boundary.\n",
    "output = features.analysis.summarize_within(sum_within_layer=point_buff, summary_layer=incidents, sum_shape=True, \n",
    "                                   summary_fields=[], group_by_field='text_gener', minority_majority=False, \n",
    "                                   percent_shape=False, output_name=None, context=None, gis=None)"
   ]
  },
  {
   "cell_type": "code",
   "execution_count": 65,
   "metadata": {},
   "outputs": [
    {
     "name": "stdout",
     "output_type": "stream",
     "text": [
      "{'result_layer': <FeatureCollection>, 'group_by_summary': <FeatureCollection>}\n",
      "<class 'dict'>\n"
     ]
    }
   ],
   "source": [
    "# The output of the summarize within did not specifify an output_name, the result is a dictionary.  Grab the dictionary key\n",
    "# based on \"result_layer\"\n",
    "print(output)\n",
    "print(type(output))\n",
    "# Return just FeatureCollection\n",
    "final = output.get('result_layer')"
   ]
  },
  {
   "cell_type": "code",
   "execution_count": 48,
   "metadata": {},
   "outputs": [
    {
     "data": {
      "text/plain": [
       "<FeatureSet> 1 features"
      ]
     },
     "execution_count": 48,
     "metadata": {},
     "output_type": "execute_result"
    }
   ],
   "source": [
    "# FeatureCollections are different than FeatureLayerCollections; unless one saves the layer using output_name\n",
    "# a where clause cannot be utilized.\n",
    "finallayers = final.query()\n",
    "finallayers"
   ]
  },
  {
   "cell_type": "code",
   "execution_count": 49,
   "metadata": {},
   "outputs": [
    {
     "data": {
      "text/html": [
       "<div>\n",
       "<style scoped>\n",
       "    .dataframe tbody tr th:only-of-type {\n",
       "        vertical-align: middle;\n",
       "    }\n",
       "\n",
       "    .dataframe tbody tr th {\n",
       "        vertical-align: top;\n",
       "    }\n",
       "\n",
       "    .dataframe thead th {\n",
       "        text-align: right;\n",
       "    }\n",
       "</style>\n",
       "<table border=\"1\" class=\"dataframe\">\n",
       "  <thead>\n",
       "    <tr style=\"text-align: right;\">\n",
       "      <th></th>\n",
       "      <th>AnalysisArea</th>\n",
       "      <th>BUFF_DIST</th>\n",
       "      <th>Join_ID</th>\n",
       "      <th>OBJECTID</th>\n",
       "      <th>ORIG_FID</th>\n",
       "      <th>Point_Count</th>\n",
       "      <th>SHAPE</th>\n",
       "      <th>name</th>\n",
       "      <th>type</th>\n",
       "    </tr>\n",
       "  </thead>\n",
       "  <tbody>\n",
       "    <tr>\n",
       "      <th>0</th>\n",
       "      <td>0.081325</td>\n",
       "      <td>0.1</td>\n",
       "      <td>1</td>\n",
       "      <td>1</td>\n",
       "      <td>1</td>\n",
       "      <td>228</td>\n",
       "      <td>{\"rings\": [[[-75.12734031650234, 39.9827442170...</td>\n",
       "      <td>Test_point</td>\n",
       "      <td>Feature</td>\n",
       "    </tr>\n",
       "  </tbody>\n",
       "</table>\n",
       "</div>"
      ],
      "text/plain": [
       "   AnalysisArea  BUFF_DIST  Join_ID  OBJECTID  ORIG_FID  Point_Count  \\\n",
       "0      0.081325        0.1        1         1         1          228   \n",
       "\n",
       "                                               SHAPE        name     type  \n",
       "0  {\"rings\": [[[-75.12734031650234, 39.9827442170...  Test_point  Feature  "
      ]
     },
     "execution_count": 49,
     "metadata": {},
     "output_type": "execute_result"
    }
   ],
   "source": [
    "# Show query results in data table\n",
    "finallayers.sdf"
   ]
  },
  {
   "cell_type": "code",
   "execution_count": 61,
   "metadata": {},
   "outputs": [
    {
     "data": {
      "application/vnd.jupyter.widget-view+json": {
       "model_id": "b71c019b3fbb47b6bec2d4a34ee84786",
       "version_major": 2,
       "version_minor": 0
      },
      "text/plain": [
       "MapView(layout=Layout(height='400px', width='100%'))"
      ]
     },
     "metadata": {},
     "output_type": "display_data"
    },
    {
     "data": {
      "text/html": [
       "<div class=\"map-static-img-preview-6326c34e-4283-4b51-827e-3b7d83f7bed2\"><img src=\"\"></img></div>"
      ],
      "text/plain": [
       "<IPython.core.display.HTML object>"
      ]
     },
     "metadata": {},
     "output_type": "display_data"
    }
   ],
   "source": [
    "# Create a second map object for clarity\n",
    "map_2 = gis.map(\"2143 York Street, Philadelphia, PA 19125\")\n",
    "map_2.add_layer(finallayers)\n",
    "map_2"
   ]
  }
 ],
 "metadata": {
  "kernelspec": {
   "display_name": "Python 3",
   "language": "python",
   "name": "python3"
  },
  "language_info": {
   "codemirror_mode": {
    "name": "ipython",
    "version": 3
   },
   "file_extension": ".py",
   "mimetype": "text/x-python",
   "name": "python",
   "nbconvert_exporter": "python",
   "pygments_lexer": "ipython3",
   "version": "3.6.6"
  }
 },
 "nbformat": 4,
 "nbformat_minor": 2
}
