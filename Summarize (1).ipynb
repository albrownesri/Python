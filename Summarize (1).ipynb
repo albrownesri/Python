{
 "cells": [
  {
   "cell_type": "markdown",
   "metadata": {},
   "source": [
    "# Aggregate Points by Polygon\n",
    "# Philadelphia Crime Incidents & Districts"
   ]
  },
  {
   "cell_type": "code",
   "execution_count": 1,
   "metadata": {},
   "outputs": [],
   "source": [
    "# import libraries\n",
    "from arcgis.gis import *\n",
    "import getpass"
   ]
  },
  {
   "cell_type": "code",
   "execution_count": 2,
   "metadata": {},
   "outputs": [
    {
     "name": "stdout",
     "output_type": "stream",
     "text": [
      "········\n"
     ]
    }
   ],
   "source": [
    "# Utilize getpass for password management in Jupyter notebooks\n",
    "password = getpass.getpass()"
   ]
  },
  {
   "cell_type": "code",
   "execution_count": 3,
   "metadata": {},
   "outputs": [
    {
     "data": {
      "text/html": [
       "GIS @ <a href=\"http://citygov.maps.arcgis.com\">http://citygov.maps.arcgis.com</a>"
      ],
      "text/plain": [
       "GIS @ http://citygov.maps.arcgis.com version:6.4"
      ]
     },
     "execution_count": 3,
     "metadata": {},
     "output_type": "execute_result"
    }
   ],
   "source": [
    "# Connect to GIS\n",
    "gis = GIS('http://www.arcgis.com', 'abrown_citygov', password)\n",
    "gis"
   ]
  },
  {
   "cell_type": "code",
   "execution_count": 4,
   "metadata": {},
   "outputs": [
    {
     "name": "stdout",
     "output_type": "stream",
     "text": [
      "<Item title:\"Boundaries_District\" type:Feature Layer Collection owner:abrown_citygov>\n"
     ]
    }
   ],
   "source": [
    "# You can find and \"get\" content by itemID, service url, or searching\n",
    "# Search for Police Boundaries District, use separate query variable\n",
    "query = \"title:Boundaries_District\"\n",
    "boundaries_s = gis.content.search(query=query, item_type=\"Feature Service\")\n",
    "boundaries = boundaries_s[0]\n",
    "print(boundaries)"
   ]
  },
  {
   "cell_type": "code",
   "execution_count": 5,
   "metadata": {},
   "outputs": [
    {
     "name": "stdout",
     "output_type": "stream",
     "text": [
      "<Item title:\"PhillyCrime\" type:Feature Layer Collection owner:abrown_citygov>\n"
     ]
    }
   ],
   "source": [
    "# Search for Philadelphia Redacted Crime, put query directly in search\n",
    "crime_s = gis.content.search(\"title:PhillyCrime\", item_type=\"Feature Service\")\n",
    "incidents = crime_s[0]\n",
    "print(incidents)"
   ]
  },
  {
   "cell_type": "code",
   "execution_count": null,
   "metadata": {},
   "outputs": [],
   "source": [
    "# Import summarize data from features module, summarize_data & analysis modules\n",
    "from arcgis.features import summarize_data, analysis"
   ]
  },
  {
   "cell_type": "markdown",
   "metadata": {},
   "source": [
    "# Two Options, summarize data or analysis modules"
   ]
  },
  {
   "cell_type": "code",
   "execution_count": 8,
   "metadata": {},
   "outputs": [],
   "source": [
    "# If you remove the output_name variable in the aggregate_points call, it will create a temporary feature collection\n",
    "# Write aggregated layer to new feature service\n",
    "# OPTION 1\n",
    "crime_summary = summarize_data.aggregate_points(point_layer = incidents,\n",
    "                                            polygon_layer = boundaries,\n",
    "                                            keep_boundaries_with_no_points=False,\n",
    "                                            output_name = 'crime_aggregation')\n",
    "\n",
    "\n",
    "# OPTION 2\n",
    "# crime_summary2 = analysis.aggregate_points(point_layer = incidents,\n",
    "#                                           polygon_layer = boundaries,\n",
    "#                                           keep_boundaries_with_no_points=False,\n",
    "#                                           output_name = 'crime_aggregationv2')"
   ]
  },
  {
   "cell_type": "code",
   "execution_count": 9,
   "metadata": {},
   "outputs": [
    {
     "name": "stdout",
     "output_type": "stream",
     "text": [
      "<Item title:\"Aggregation of 2018 Crime - Vandalism to Travel from Hubway_Stations 0.1 Miles (pre-run)\" type:Feature Layer Collection owner:rach4489@esri.com_citygov>\n",
      "<Item title:\"crime_aggregation\" type:Feature Layer Collection owner:abrown_citygov>\n"
     ]
    }
   ],
   "source": [
    "crime_agg = gis.content.search(\"title:crime_aggregation\", item_type=\"Feature Service\")\n",
    "for item in crime_agg:\n",
    "    print(item)\n",
    "# Return list of all items returned"
   ]
  },
  {
   "cell_type": "code",
   "execution_count": 10,
   "metadata": {},
   "outputs": [],
   "source": [
    "# Output of this analysis is second entry, so set as item 1 in list.\n",
    "crime_data = crime_agg[1]\n",
    "crime_layers = crime_data.layers\n",
    "crime_output = crime_layers[0]\n"
   ]
  },
  {
   "cell_type": "code",
   "execution_count": 11,
   "metadata": {},
   "outputs": [],
   "source": [
    "# Return only selected fields\n",
    "query_result1 = crime_output.query(where='1=1', \n",
    "                                    out_fields='Point_Count, DISTRICT_')"
   ]
  },
  {
   "cell_type": "code",
   "execution_count": 12,
   "metadata": {},
   "outputs": [
    {
     "data": {
      "text/html": [
       "<div>\n",
       "<style scoped>\n",
       "    .dataframe tbody tr th:only-of-type {\n",
       "        vertical-align: middle;\n",
       "    }\n",
       "\n",
       "    .dataframe tbody tr th {\n",
       "        vertical-align: top;\n",
       "    }\n",
       "\n",
       "    .dataframe thead th {\n",
       "        text-align: right;\n",
       "    }\n",
       "</style>\n",
       "<table border=\"1\" class=\"dataframe\">\n",
       "  <thead>\n",
       "    <tr style=\"text-align: right;\">\n",
       "      <th></th>\n",
       "      <th>DISTRICT_</th>\n",
       "      <th>OBJECTID</th>\n",
       "      <th>Point_Count</th>\n",
       "      <th>SHAPE</th>\n",
       "    </tr>\n",
       "  </thead>\n",
       "  <tbody>\n",
       "    <tr>\n",
       "      <th>0</th>\n",
       "      <td>77</td>\n",
       "      <td>1</td>\n",
       "      <td>498</td>\n",
       "      <td>{\"rings\": [[[2674487.16439535, 212760.65150250...</td>\n",
       "    </tr>\n",
       "    <tr>\n",
       "      <th>1</th>\n",
       "      <td>17</td>\n",
       "      <td>2</td>\n",
       "      <td>18666</td>\n",
       "      <td>{\"rings\": [[[2692953.28100634, 232266.62462958...</td>\n",
       "    </tr>\n",
       "    <tr>\n",
       "      <th>2</th>\n",
       "      <td>6</td>\n",
       "      <td>3</td>\n",
       "      <td>26512</td>\n",
       "      <td>{\"rings\": [[[2701697.91870075, 236570.14325350...</td>\n",
       "    </tr>\n",
       "    <tr>\n",
       "      <th>3</th>\n",
       "      <td>9</td>\n",
       "      <td>4</td>\n",
       "      <td>20699</td>\n",
       "      <td>{\"rings\": [[[2693482.59261176, 236493.20049400...</td>\n",
       "    </tr>\n",
       "    <tr>\n",
       "      <th>4</th>\n",
       "      <td>26</td>\n",
       "      <td>5</td>\n",
       "      <td>20519</td>\n",
       "      <td>{\"rings\": [[[2703314.0916495, 239453.393392503...</td>\n",
       "    </tr>\n",
       "    <tr>\n",
       "      <th>5</th>\n",
       "      <td>22</td>\n",
       "      <td>6</td>\n",
       "      <td>37811</td>\n",
       "      <td>{\"rings\": [[[2686483.90582176, 253430.01078042...</td>\n",
       "    </tr>\n",
       "    <tr>\n",
       "      <th>6</th>\n",
       "      <td>25</td>\n",
       "      <td>7</td>\n",
       "      <td>37860</td>\n",
       "      <td>{\"rings\": [[[2706960.29531509, 263453.62951266...</td>\n",
       "    </tr>\n",
       "    <tr>\n",
       "      <th>7</th>\n",
       "      <td>35</td>\n",
       "      <td>8</td>\n",
       "      <td>31137</td>\n",
       "      <td>{\"rings\": [[[2701755.58558017, 274818.82922317...</td>\n",
       "    </tr>\n",
       "    <tr>\n",
       "      <th>8</th>\n",
       "      <td>18</td>\n",
       "      <td>9</td>\n",
       "      <td>26491</td>\n",
       "      <td>{\"rings\": [[[2687649.57934342, 234542.57480208...</td>\n",
       "    </tr>\n",
       "    <tr>\n",
       "      <th>9</th>\n",
       "      <td>3</td>\n",
       "      <td>10</td>\n",
       "      <td>31742</td>\n",
       "      <td>{\"rings\": [[[2702924.93068242, 217065.83908633...</td>\n",
       "    </tr>\n",
       "    <tr>\n",
       "      <th>10</th>\n",
       "      <td>39</td>\n",
       "      <td>11</td>\n",
       "      <td>21291</td>\n",
       "      <td>{\"rings\": [[[2688377.13103792, 264902.01080225...</td>\n",
       "    </tr>\n",
       "    <tr>\n",
       "      <th>11</th>\n",
       "      <td>24</td>\n",
       "      <td>12</td>\n",
       "      <td>37466</td>\n",
       "      <td>{\"rings\": [[[2708899.9508846, 259896.656639755...</td>\n",
       "    </tr>\n",
       "    <tr>\n",
       "      <th>12</th>\n",
       "      <td>2</td>\n",
       "      <td>13</td>\n",
       "      <td>28266</td>\n",
       "      <td>{\"rings\": [[[2723075.90973733, 270597.00630199...</td>\n",
       "    </tr>\n",
       "    <tr>\n",
       "      <th>13</th>\n",
       "      <td>16</td>\n",
       "      <td>14</td>\n",
       "      <td>17972</td>\n",
       "      <td>{\"rings\": [[[2682834.3199451, 256493.363249511...</td>\n",
       "    </tr>\n",
       "    <tr>\n",
       "      <th>14</th>\n",
       "      <td>19</td>\n",
       "      <td>15</td>\n",
       "      <td>30729</td>\n",
       "      <td>{\"rings\": [[[2680083.56658834, 256304.82753734...</td>\n",
       "    </tr>\n",
       "    <tr>\n",
       "      <th>15</th>\n",
       "      <td>5</td>\n",
       "      <td>16</td>\n",
       "      <td>8460</td>\n",
       "      <td>{\"rings\": [[[2681241.84019043, 265760.84930767...</td>\n",
       "    </tr>\n",
       "    <tr>\n",
       "      <th>16</th>\n",
       "      <td>1</td>\n",
       "      <td>17</td>\n",
       "      <td>12920</td>\n",
       "      <td>{\"rings\": [[[2684325.85666017, 227496.37629608...</td>\n",
       "    </tr>\n",
       "    <tr>\n",
       "      <th>17</th>\n",
       "      <td>15</td>\n",
       "      <td>18</td>\n",
       "      <td>43026</td>\n",
       "      <td>{\"rings\": [[[2732370.15558451, 266043.20963533...</td>\n",
       "    </tr>\n",
       "    <tr>\n",
       "      <th>18</th>\n",
       "      <td>7</td>\n",
       "      <td>19</td>\n",
       "      <td>11014</td>\n",
       "      <td>{\"rings\": [[[2737771.26387675, 301545.70326276...</td>\n",
       "    </tr>\n",
       "    <tr>\n",
       "      <th>19</th>\n",
       "      <td>14</td>\n",
       "      <td>20</td>\n",
       "      <td>29282</td>\n",
       "      <td>{\"rings\": [[[2684593.8141295, 280235.994898006...</td>\n",
       "    </tr>\n",
       "    <tr>\n",
       "      <th>20</th>\n",
       "      <td>8</td>\n",
       "      <td>21</td>\n",
       "      <td>18520</td>\n",
       "      <td>{\"rings\": [[[2744253.10524376, 298829.97050525...</td>\n",
       "    </tr>\n",
       "    <tr>\n",
       "      <th>21</th>\n",
       "      <td>12</td>\n",
       "      <td>22</td>\n",
       "      <td>32922</td>\n",
       "      <td>{\"rings\": [[[2677505.05829392, 234012.06339591...</td>\n",
       "    </tr>\n",
       "  </tbody>\n",
       "</table>\n",
       "</div>"
      ],
      "text/plain": [
       "    DISTRICT_  OBJECTID  Point_Count  \\\n",
       "0          77         1          498   \n",
       "1          17         2        18666   \n",
       "2           6         3        26512   \n",
       "3           9         4        20699   \n",
       "4          26         5        20519   \n",
       "5          22         6        37811   \n",
       "6          25         7        37860   \n",
       "7          35         8        31137   \n",
       "8          18         9        26491   \n",
       "9           3        10        31742   \n",
       "10         39        11        21291   \n",
       "11         24        12        37466   \n",
       "12          2        13        28266   \n",
       "13         16        14        17972   \n",
       "14         19        15        30729   \n",
       "15          5        16         8460   \n",
       "16          1        17        12920   \n",
       "17         15        18        43026   \n",
       "18          7        19        11014   \n",
       "19         14        20        29282   \n",
       "20          8        21        18520   \n",
       "21         12        22        32922   \n",
       "\n",
       "                                                SHAPE  \n",
       "0   {\"rings\": [[[2674487.16439535, 212760.65150250...  \n",
       "1   {\"rings\": [[[2692953.28100634, 232266.62462958...  \n",
       "2   {\"rings\": [[[2701697.91870075, 236570.14325350...  \n",
       "3   {\"rings\": [[[2693482.59261176, 236493.20049400...  \n",
       "4   {\"rings\": [[[2703314.0916495, 239453.393392503...  \n",
       "5   {\"rings\": [[[2686483.90582176, 253430.01078042...  \n",
       "6   {\"rings\": [[[2706960.29531509, 263453.62951266...  \n",
       "7   {\"rings\": [[[2701755.58558017, 274818.82922317...  \n",
       "8   {\"rings\": [[[2687649.57934342, 234542.57480208...  \n",
       "9   {\"rings\": [[[2702924.93068242, 217065.83908633...  \n",
       "10  {\"rings\": [[[2688377.13103792, 264902.01080225...  \n",
       "11  {\"rings\": [[[2708899.9508846, 259896.656639755...  \n",
       "12  {\"rings\": [[[2723075.90973733, 270597.00630199...  \n",
       "13  {\"rings\": [[[2682834.3199451, 256493.363249511...  \n",
       "14  {\"rings\": [[[2680083.56658834, 256304.82753734...  \n",
       "15  {\"rings\": [[[2681241.84019043, 265760.84930767...  \n",
       "16  {\"rings\": [[[2684325.85666017, 227496.37629608...  \n",
       "17  {\"rings\": [[[2732370.15558451, 266043.20963533...  \n",
       "18  {\"rings\": [[[2737771.26387675, 301545.70326276...  \n",
       "19  {\"rings\": [[[2684593.8141295, 280235.994898006...  \n",
       "20  {\"rings\": [[[2744253.10524376, 298829.97050525...  \n",
       "21  {\"rings\": [[[2677505.05829392, 234012.06339591...  "
      ]
     },
     "execution_count": 12,
     "metadata": {},
     "output_type": "execute_result"
    }
   ],
   "source": [
    "# Show query results in data table\n",
    "query_result1\n",
    "query_result1.sdf"
   ]
  },
  {
   "cell_type": "markdown",
   "metadata": {},
   "source": []
  },
  {
   "cell_type": "code",
   "execution_count": 13,
   "metadata": {},
   "outputs": [],
   "source": [
    "# Create a map object\n",
    "map1 = gis.map(\"Philadelphia\")\n",
    "map1.add_layer(query_result1)"
   ]
  },
  {
   "cell_type": "code",
   "execution_count": 14,
   "metadata": {},
   "outputs": [
    {
     "data": {
      "application/vnd.jupyter.widget-view+json": {
       "model_id": "579b25221e444c01bad56d0b3f376c4f",
       "version_major": 2,
       "version_minor": 0
      },
      "text/plain": [
       "MapView(layout=Layout(height='400px', width='100%'))"
      ]
     },
     "metadata": {},
     "output_type": "display_data"
    },
    {
     "data": {
      "text/html": [
       "<div class=\"map-static-img-preview-876128f1-9df0-4a1c-9b2d-ebce844c4228\"><img src=\"\"></img></div>"
      ],
      "text/plain": [
       "<IPython.core.display.HTML object>"
      ]
     },
     "metadata": {},
     "output_type": "display_data"
    }
   ],
   "source": [
    "map1"
   ]
  }
 ],
 "metadata": {
  "kernelspec": {
   "display_name": "Python 3",
   "language": "python",
   "name": "python3"
  },
  "language_info": {
   "codemirror_mode": {
    "name": "ipython",
    "version": 3
   },
   "file_extension": ".py",
   "mimetype": "text/x-python",
   "name": "python",
   "nbconvert_exporter": "python",
   "pygments_lexer": "ipython3",
   "version": "3.6.6"
  }
 },
 "nbformat": 4,
 "nbformat_minor": 2
}
