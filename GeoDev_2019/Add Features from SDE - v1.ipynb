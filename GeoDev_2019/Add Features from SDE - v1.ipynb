{
 "cells": [
  {
   "cell_type": "markdown",
   "metadata": {},
   "source": [
    "# Add Features from SDE into Feature Service\n",
    "\n",
    "The script utilizes both Esri's Destkop Python library 'arcpy' & the web Python API.  Connect to ArcGIS Online or Enterprise\n",
    "parse through various datapoints and add them into a service."
   ]
  },
  {
   "cell_type": "code",
   "execution_count": 1,
   "metadata": {},
   "outputs": [],
   "source": [
    "# Import modules\n",
    "import json\n",
    "import arcpy\n",
    "import getpass\n",
    "import time\n",
    "from datetime import datetime\n",
    "from dateutil import tz\n",
    "from arcpy import env\n",
    "from arcgis.gis import *"
   ]
  },
  {
   "cell_type": "markdown",
   "metadata": {},
   "source": [
    "## Connect to ArcGIS Online - Python API\n",
    "Estbalish connection, search for content by name to return the item's ID.  Once found, connect to relevant index dataset, and truncate the service in preparation for data load."
   ]
  },
  {
   "cell_type": "code",
   "execution_count": 2,
   "metadata": {},
   "outputs": [
    {
     "name": "stdout",
     "output_type": "stream",
     "text": [
      "········\n"
     ]
    }
   ],
   "source": [
    "# Utilize getpass for hiding password for demonstration purposes\n",
    "password = getpass.getpass()"
   ]
  },
  {
   "cell_type": "code",
   "execution_count": 3,
   "metadata": {},
   "outputs": [],
   "source": [
    "# Establish connection to a WebGIS organization\n",
    "# ArcGIS Online\n",
    "gis = GIS('http://www.arcgis.com', 'abrown_citygov', password)\n",
    "\n",
    "# For ArcGIS Enterprise, connect as \"https:<server DNS>/<web adaptor for portal>\"\n",
    "# Example: GIS('http://neenterprise.esri.com/portal', 'username', password)  "
   ]
  },
  {
   "cell_type": "code",
   "execution_count": 4,
   "metadata": {},
   "outputs": [
    {
     "data": {
      "text/plain": [
       "[<Item title:\"PhillyCrimeExample\" type:Feature Layer Collection owner:abrown_citygov>]"
      ]
     },
     "execution_count": 4,
     "metadata": {},
     "output_type": "execute_result"
    }
   ],
   "source": [
    "# Search by title\n",
    "search = gis.content.search(query=\"title: PhillyCrimeExample\", item_type=\"Feature Service\")\n",
    "search"
   ]
  },
  {
   "cell_type": "code",
   "execution_count": 5,
   "metadata": {},
   "outputs": [
    {
     "data": {
      "text/plain": [
       "'1d1ee09e66084db0a189ee0e86ba9689'"
      ]
     },
     "execution_count": 5,
     "metadata": {},
     "output_type": "execute_result"
    }
   ],
   "source": [
    "# From search list, return the index for service one is interseted in connecting to\n",
    "item = search[0]\n",
    "itemID = item.id\n",
    "itemID"
   ]
  },
  {
   "cell_type": "code",
   "execution_count": 6,
   "metadata": {},
   "outputs": [
    {
     "name": "stdout",
     "output_type": "stream",
     "text": [
      "<FeatureLayer url:\"https://services6.arcgis.com/0p6i4J6xhQas4Unf/arcgis/rest/services/PhillyCrimeExample/FeatureServer/0\">\n",
      "<class 'arcgis.features.layer.FeatureLayer'>\n"
     ]
    }
   ],
   "source": [
    "# Establish connection to Feature Layer item\n",
    "feature_layer_item = gis.content.get(itemID)\n",
    "flayers = feature_layer_item.layers\n",
    "flayer = flayers[0]\n",
    "print(flayer)\n",
    "print(type(flayer))"
   ]
  },
  {
   "cell_type": "code",
   "execution_count": 8,
   "metadata": {},
   "outputs": [
    {
     "name": "stdout",
     "output_type": "stream",
     "text": [
      "0\n"
     ]
    }
   ],
   "source": [
    "# Truncate the dataset, cannot be utlized on layers with synch\n",
    "flayer.manager.truncate()\n",
    "\n",
    "# Alternative Option, utilize delete_features method in class FeatureLayer\n",
    "# flayer.delete_features(where=\"1=1\")\n",
    "\n",
    "# Return total number of records after insert\n",
    "total_result = flayer.query(where='1=1', out_fields='*')\n",
    "print(len(total_result))"
   ]
  },
  {
   "cell_type": "markdown",
   "metadata": {},
   "source": [
    "## Connect to Enterprise Geodatabase\n",
    "\n",
    "Establish connection to enterprise geodatabase.  List feature classes, locate dataset of interest. Manipulate the field list to add formalized shape and object id columns.  Create a search cursor on the dataset and create emtpy dictionaries & lists for data preparation."
   ]
  },
  {
   "cell_type": "code",
   "execution_count": 9,
   "metadata": {},
   "outputs": [],
   "source": [
    "# Establish arcpy desktop workspace\n",
    "wspace = r'C:\\Users\\alex8694\\AppData\\Roaming\\ESRI\\Desktop10.6\\ArcCatalog\\Enterprise_SDE.sde'\n",
    "env.workspace = wspace"
   ]
  },
  {
   "cell_type": "code",
   "execution_count": 10,
   "metadata": {},
   "outputs": [],
   "source": [
    "# List Feature classes within geodatabase\n",
    "fclist = arcpy.ListFeatureClasses()"
   ]
  },
  {
   "cell_type": "code",
   "execution_count": 11,
   "metadata": {},
   "outputs": [],
   "source": [
    "# Find correct dataset\n",
    "for item in fclist:\n",
    "    if item == 'Enterprise.SDE.PhillyCrimeSubset':\n",
    "        data = item "
   ]
  },
  {
   "cell_type": "code",
   "execution_count": 12,
   "metadata": {},
   "outputs": [
    {
     "data": {
      "text/plain": [
       "['OID@',\n",
       " 'point_y',\n",
       " 'objectid',\n",
       " 'dc_dist',\n",
       " 'psa',\n",
       " 'dispatch_d',\n",
       " 'dispatch_1',\n",
       " 'hour_',\n",
       " 'dc_key',\n",
       " 'location_b',\n",
       " 'ucr_genera',\n",
       " 'text_gener',\n",
       " 'point_x',\n",
       " 'dispatch_t',\n",
       " 'SHAPE@']"
      ]
     },
     "execution_count": 12,
     "metadata": {},
     "output_type": "execute_result"
    }
   ],
   "source": [
    "# List fields to create a field key\n",
    "fieldlist = arcpy.ListFields(data)\n",
    "fnames = []\n",
    "for field in fieldlist:\n",
    "    fnames.append(field.name)\n",
    "    \n",
    "# Remove specific fields for shape and objectid and add arcgis acceptable field values.\n",
    "fnames.remove('Shape')\n",
    "fnames.remove('OBJECTID_1')\n",
    "fnames.append('SHAPE@')\n",
    "fnames.insert(0,\"OID@\")\n",
    "fnames"
   ]
  },
  {
   "cell_type": "code",
   "execution_count": 13,
   "metadata": {},
   "outputs": [],
   "source": [
    "# Establish search cursor to read input data\n",
    "cursor = arcpy.da.SearchCursor(data, fnames)\n",
    "\n",
    "# Create placeholder diciontary and lists for data manipulation\n",
    "attribute_dict = {}\n",
    "geom_dict = {}\n",
    "final_features = []"
   ]
  },
  {
   "cell_type": "markdown",
   "metadata": {},
   "source": [
    "## Prepare data for insert into Feature Service\n",
    "\n",
    "Manipulate the data coming from arcpy insert cursor, be aware of your time zone properties, add to a service."
   ]
  },
  {
   "cell_type": "code",
   "execution_count": 15,
   "metadata": {},
   "outputs": [
    {
     "name": "stdout",
     "output_type": "stream",
     "text": [
      "[{'attributes': {'OID@': 2033, 'point_y': 40.06261422, 'objectid': 8007, 'dc_dist': '07', 'psa': '1', 'dispatch_d': 1428647040000.0, 'dispatch_1': '2015-04-10', 'hour_': 2, 'dc_key': '201507009700', 'location_b': '8400 BLOCK E ROOSEVELT BLVD', 'ucr_genera': '500', 'text_gener': 'Burglary Residential', 'point_x': -75.04307602, 'dispatch_t': '02:24:00'}, 'geometry': {'x': -75.04307600994986, 'y': 40.06261422027012}}]\n",
      "[{'attributes': {'OID@': 4518, 'point_y': 40.06313326, 'objectid': 23185, 'dc_dist': '08', 'psa': '1', 'dispatch_d': 1442591400000.0, 'dispatch_1': '2015-09-18', 'hour_': 11, 'dc_key': '201508035817', 'location_b': '8300 BLOCK E ROOSEVELT BLVD', 'ucr_genera': '1100', 'text_gener': 'Fraud', 'point_x': -75.04218487, 'dispatch_t': '11:50:00'}, 'geometry': {'x': -75.04218486993574, 'y': 40.06313326039168}}]\n",
      "[{'attributes': {'OID@': 4713, 'point_y': 40.06398515, 'objectid': 17890, 'dc_dist': '08', 'psa': '1', 'dispatch_d': 1440009480000.0, 'dispatch_1': '2015-08-19', 'hour_': 14, 'dc_key': '201508031802', 'location_b': '8400 BLOCK E ROOSEVELT BLVD', 'ucr_genera': '500', 'text_gener': 'Burglary Non-Residential', 'point_x': -75.04181026, 'dispatch_t': '14:38:00'}, 'geometry': {'x': -75.04181025014287, 'y': 40.063985150394444}}]\n",
      "[{'attributes': {'OID@': 5171, 'point_y': 40.06313326, 'objectid': 17449, 'dc_dist': '08', 'psa': '1', 'dispatch_d': 1430448780000.0, 'dispatch_1': '2015-04-30', 'hour_': 22, 'dc_key': '201508016554', 'location_b': '8300 BLOCK E ROOSEVELT BLVD', 'ucr_genera': '600', 'text_gener': 'Thefts', 'point_x': -75.04218487, 'dispatch_t': '22:53:00'}, 'geometry': {'x': -75.04218486993574, 'y': 40.06313326039168}}]\n",
      "[{'attributes': {'OID@': 5686, 'point_y': 40.06313326, 'objectid': 18327, 'dc_dist': '08', 'psa': '1', 'dispatch_d': 1438959000000.0, 'dispatch_1': '2015-08-07', 'hour_': 10, 'dc_key': '201508030119', 'location_b': '8300 BLOCK E ROOSEVELT BLVD', 'ucr_genera': '600', 'text_gener': 'Thefts', 'point_x': -75.04218487, 'dispatch_t': '10:50:00'}, 'geometry': {'x': -75.04218486993574, 'y': 40.06313326039168}}]\n",
      "[{'attributes': {'OID@': 6393, 'point_y': 40.06178222, 'objectid': 18050, 'dc_dist': '07', 'psa': '1', 'dispatch_d': 1424128620000.0, 'dispatch_1': '2015-02-16', 'hour_': 18, 'dc_key': '201507004512', 'location_b': '2400 BLOCK BENSON ST 203C', 'ucr_genera': '1100', 'text_gener': 'Fraud', 'point_x': -75.04351402, 'dispatch_t': '18:17:00'}, 'geometry': {'x': -75.04351402025577, 'y': 40.06178221967377}}]\n",
      "[{'attributes': {'OID@': 6641, 'point_y': 40.06261422, 'objectid': 18811, 'dc_dist': '07', 'psa': '1', 'dispatch_d': 1425909480000.0, 'dispatch_1': '2015-03-09', 'hour_': 9, 'dc_key': '201507006496', 'location_b': '8400 BLOCK E ROOSEVELT BLVD', 'ucr_genera': '600', 'text_gener': 'Thefts', 'point_x': -75.04307602, 'dispatch_t': '09:58:00'}, 'geometry': {'x': -75.04307600994986, 'y': 40.06261422027012}}]\n",
      "[{'attributes': {'OID@': 7467, 'point_y': 40.06699975, 'objectid': 42121, 'dc_dist': '08', 'psa': '1', 'dispatch_d': 1444703640000.0, 'dispatch_1': '2015-10-12', 'hour_': 22, 'dc_key': '201508039045', 'location_b': '8400 BLOCK E ROOSEVELT BLVD', 'ucr_genera': '800', 'text_gener': 'Other Assaults', 'point_x': -75.04047638, 'dispatch_t': '22:34:00'}, 'geometry': {'x': -75.04047638018073, 'y': 40.06699974983866}}]\n",
      "[{'attributes': {'OID@': 7526, 'point_y': 40.06272076, 'objectid': 27523, 'dc_dist': '07', 'psa': '1', 'dispatch_d': 1423571100000.0, 'dispatch_1': '2015-02-10', 'hour_': 7, 'dc_key': '201507003848', 'location_b': '8400 BLOCK E ROOSEVELT BLVD', 'ucr_genera': '1400', 'text_gener': 'Vandalism/Criminal Mischief', 'point_x': -75.04302826, 'dispatch_t': '07:25:00'}, 'geometry': {'x': -75.04302826044585, 'y': 40.06272076025493}}]\n",
      "[{'attributes': {'OID@': 7635, 'point_y': 40.06313326, 'objectid': 41941, 'dc_dist': '08', 'psa': '1', 'dispatch_d': 1426795920000.0, 'dispatch_1': '2015-03-19', 'hour_': 16, 'dc_key': '201508010578', 'location_b': '8300 BLOCK E ROOSEVELT BLVD', 'ucr_genera': '800', 'text_gener': 'Other Assaults', 'point_x': -75.04218487, 'dispatch_t': '16:12:00'}, 'geometry': {'x': -75.04218486993574, 'y': 40.06313326039168}}]\n",
      "[{'attributes': {'OID@': 8345, 'point_y': 40.06178222, 'objectid': 40121, 'dc_dist': '07', 'psa': '1', 'dispatch_d': 1425227640000.0, 'dispatch_1': '2015-03-01', 'hour_': 11, 'dc_key': '201507005761', 'location_b': '2400 BLOCK BENSON ST', 'ucr_genera': '600', 'text_gener': 'Theft from Vehicle', 'point_x': -75.04351402, 'dispatch_t': '11:34:00'}, 'geometry': {'x': -75.04351402025577, 'y': 40.06178221967377}}]\n",
      "[{'attributes': {'OID@': 8632, 'point_y': 40.06303781, 'objectid': 37825, 'dc_dist': '07', 'psa': '1', 'dispatch_d': 1428947280000.0, 'dispatch_1': '2015-04-13', 'hour_': 13, 'dc_key': '201507010063', 'location_b': '8400 BLOCK E ROOSEVELT BLVD', 'ucr_genera': '600', 'text_gener': 'Thefts', 'point_x': -75.04289154, 'dispatch_t': '13:48:00'}, 'geometry': {'x': -75.04289154011246, 'y': 40.06303780994705}}]\n",
      "[{'attributes': {'OID@': 9957, 'point_y': 40.06699975, 'objectid': 45411, 'dc_dist': '08', 'psa': '1', 'dispatch_d': 1427066940000.0, 'dispatch_1': '2015-03-22', 'hour_': 19, 'dc_key': '201508010977', 'location_b': '8400 BLOCK E ROOSEVELT BLVD', 'ucr_genera': '400', 'text_gener': 'Aggravated Assault No Firearm', 'point_x': -75.04047638, 'dispatch_t': '19:29:00'}, 'geometry': {'x': -75.04047638018073, 'y': 40.06699974983866}}]\n",
      "[{'attributes': {'OID@': 13293, 'point_y': 40.06272076, 'objectid': 63650, 'dc_dist': '07', 'psa': '1', 'dispatch_d': 1438009020000.0, 'dispatch_1': '2015-07-27', 'hour_': 10, 'dc_key': '201507021720', 'location_b': '8400 BLOCK E ROOSEVELT BLVD', 'ucr_genera': '1400', 'text_gener': 'Vandalism/Criminal Mischief', 'point_x': -75.04302826, 'dispatch_t': '10:57:00'}, 'geometry': {'x': -75.04302826044585, 'y': 40.06272076025493}}]\n",
      "[{'attributes': {'OID@': 14847, 'point_y': 40.06170304, 'objectid': 85199, 'dc_dist': '07', 'psa': '1', 'dispatch_d': 1441041840000.0, 'dispatch_1': '2015-08-31', 'hour_': 13, 'dc_key': '201507025383', 'location_b': '2400 BLOCK BENSON ST', 'ucr_genera': '600', 'text_gener': 'Thefts', 'point_x': -75.04354994, 'dispatch_t': '13:24:00'}, 'geometry': {'x': -75.04354994007764, 'y': 40.06170302987101}}]\n",
      "[{'attributes': {'OID@': 17892, 'point_y': 40.06100237, 'objectid': 124280, 'dc_dist': '07', 'psa': '1', 'dispatch_d': 1423369920000.0, 'dispatch_1': '2015-02-07', 'hour_': 23, 'dc_key': '201507003640', 'location_b': '8300 BLOCK E ROOSEVELT BLVD', 'ucr_genera': '600', 'text_gener': 'Theft from Vehicle', 'point_x': -75.04379661, 'dispatch_t': '23:32:00'}, 'geometry': {'x': -75.04379660972575, 'y': 40.061002359970985}}]\n",
      "[{'attributes': {'OID@': 18523, 'point_y': 40.06246885, 'objectid': 124304, 'dc_dist': '07', 'psa': '1', 'dispatch_d': 1427332980000.0, 'dispatch_1': '2015-03-25', 'hour_': 21, 'dc_key': '201507008185', 'location_b': 'E ROOSEVELT BLVD / STRAHLE ST', 'ucr_genera': '1400', 'text_gener': 'Vandalism/Criminal Mischief', 'point_x': -75.04308863, 'dispatch_t': '21:23:00'}, 'geometry': {'x': -75.04308863013614, 'y': 40.06246885025729}}]\n",
      "[{'attributes': {'OID@': 19560, 'point_y': 40.06246885, 'objectid': 122440, 'dc_dist': '08', 'psa': '1', 'dispatch_d': 1425404280000.0, 'dispatch_1': '2015-03-03', 'hour_': 12, 'dc_key': '201508008425', 'location_b': 'STRAHLE ST / E ROOSEVELT BLVD', 'ucr_genera': '2100', 'text_gener': 'DRIVING UNDER THE INFLUENCE', 'point_x': -75.04308863, 'dispatch_t': '12:38:00'}, 'geometry': {'x': -75.04308863013614, 'y': 40.06246885025729}}]\n",
      "[{'attributes': {'OID@': 21294, 'point_y': 40.06255864, 'objectid': 147692, 'dc_dist': '07', 'psa': '1', 'dispatch_d': 1443707220000.0, 'dispatch_1': '2015-10-01', 'hour_': 9, 'dc_key': '201507028491', 'location_b': '2300 BLOCK STRAHLE ST', 'ucr_genera': '2600', 'text_gener': 'All Other Offenses', 'point_x': -75.04358337, 'dispatch_t': '09:47:00'}, 'geometry': {'x': -75.04358336967675, 'y': 40.06255864036899}}]\n",
      "[{'attributes': {'OID@': 25264, 'point_y': 40.06313326, 'objectid': 77974, 'dc_dist': '08', 'psa': '1', 'dispatch_d': 1449875220000.0, 'dispatch_1': '2015-12-11', 'hour_': 18, 'dc_key': '201508047088', 'location_b': '8300 BLOCK E ROOSEVELT BLVD', 'ucr_genera': '600', 'text_gener': 'Thefts', 'point_x': -75.04218487, 'dispatch_t': '18:07:00'}, 'geometry': {'x': -75.04218486993574, 'y': 40.06313326039168}}]\n",
      "[{'attributes': {'OID@': 29404, 'point_y': 40.06246885, 'objectid': 197924, 'dc_dist': '07', 'psa': 'C', 'dispatch_d': 1146950760000.0, 'dispatch_1': '2006-05-06', 'hour_': 17, 'dc_key': '200607014130', 'location_b': 'ROOSEVELT BLVD /STRAHLE ST', 'ucr_genera': '800', 'text_gener': 'Other Assaults', 'point_x': -75.04308863, 'dispatch_t': '17:26:00'}, 'geometry': {'x': -75.04308863013614, 'y': 40.06246885025729}}]\n"
     ]
    },
    {
     "name": "stdout",
     "output_type": "stream",
     "text": [
      "[{'attributes': {'OID@': 33386, 'point_y': 40.06131457, 'objectid': 227991, 'dc_dist': '08', 'psa': 'L', 'dispatch_d': 1146880440000.0, 'dispatch_1': '2006-05-05', 'hour_': 21, 'dc_key': '200608019563', 'location_b': '8300 BLOCK ROOSEVELT BLVD', 'ucr_genera': '800', 'text_gener': 'Other Assaults', 'point_x': -75.0429753, 'dispatch_t': '21:54:00'}, 'geometry': {'x': -75.04297530026986, 'y': 40.06131457041113}}]\n",
      "[{'attributes': {'OID@': 34583, 'point_y': 40.06131457, 'objectid': 218663, 'dc_dist': '08', 'psa': 'L', 'dispatch_d': 1158507480000.0, 'dispatch_1': '2006-09-17', 'hour_': 11, 'dc_key': '200608041771', 'location_b': '8300 BLOCK ROOSEVELT BLVD', 'ucr_genera': '800', 'text_gener': 'Other Assaults', 'point_x': -75.0429753, 'dispatch_t': '11:38:00'}, 'geometry': {'x': -75.04297530026986, 'y': 40.06131457041113}}]\n",
      "[{'attributes': {'OID@': 35009, 'point_y': 40.06131457, 'objectid': 219619, 'dc_dist': '08', 'psa': 'L', 'dispatch_d': 1138906080000.0, 'dispatch_1': '2006-02-02', 'hour_': 13, 'dc_key': '200608005141', 'location_b': '8300 BLOCK ROOSEVELT BLVD', 'ucr_genera': '800', 'text_gener': 'Other Assaults', 'point_x': -75.0429753, 'dispatch_t': '13:48:00'}, 'geometry': {'x': -75.04297530026986, 'y': 40.06131457041113}}]\n",
      "[{'attributes': {'OID@': 36397, 'point_y': 40.06322176, 'objectid': 213848, 'dc_dist': '08', 'psa': 'L', 'dispatch_d': 1160047260000.0, 'dispatch_1': '2006-10-05', 'hour_': 7, 'dc_key': '200608044673', 'location_b': '8400 BLOCK ROOSEVELT BLVD', 'ucr_genera': '600', 'text_gener': 'Theft from Vehicle', 'point_x': -75.04214125, 'dispatch_t': '07:21:00'}, 'geometry': {'x': -75.04214125011856, 'y': 40.06322175997627}}]\n",
      "[{'attributes': {'OID@': 40132, 'point_y': 40.06250768, 'objectid': 231729, 'dc_dist': '07', 'psa': 'C', 'dispatch_d': 1161262320000.0, 'dispatch_1': '2006-10-19', 'hour_': 8, 'dc_key': '200607033957', 'location_b': '8400 BLOCK ROOSEVELT BLVD', 'ucr_genera': '2600', 'text_gener': 'All Other Offenses', 'point_x': -75.04312376, 'dispatch_t': '08:52:00'}, 'geometry': {'x': -75.04312376035324, 'y': 40.06250768028525}}]\n",
      "[{'attributes': {'OID@': 40214, 'point_y': 40.06250768, 'objectid': 231461, 'dc_dist': '07', 'psa': 'C', 'dispatch_d': 1138380060000.0, 'dispatch_1': '2006-01-27', 'hour_': 11, 'dc_key': '200607002898', 'location_b': '8400 BLOCK ROOSEVELT BLVD', 'ucr_genera': '2600', 'text_gener': 'All Other Offenses', 'point_x': -75.04312376, 'dispatch_t': '11:41:00'}, 'geometry': {'x': -75.04312376035324, 'y': 40.06250768028525}}]\n",
      "[{'attributes': {'OID@': 40535, 'point_y': 40.06322176, 'objectid': 231748, 'dc_dist': '08', 'psa': 'L', 'dispatch_d': 1148967780000.0, 'dispatch_1': '2006-05-30', 'hour_': 1, 'dc_key': '200608023475', 'location_b': '8400 BLOCK ROOSEVELT BLVD', 'ucr_genera': '2600', 'text_gener': 'All Other Offenses', 'point_x': -75.04214125, 'dispatch_t': '01:43:00'}, 'geometry': {'x': -75.04214125011856, 'y': 40.06322175997627}}]\n",
      "[{'attributes': {'OID@': 41260, 'point_y': 40.06131457, 'objectid': 278357, 'dc_dist': '08', 'psa': 'L', 'dispatch_d': 1144249080000.0, 'dispatch_1': '2006-04-05', 'hour_': 10, 'dc_key': '200608014637', 'location_b': '8300 BLOCK ROOSEVELT BLVD', 'ucr_genera': '600', 'text_gener': 'Thefts', 'point_x': -75.0429753, 'dispatch_t': '10:58:00'}, 'geometry': {'x': -75.04297530026986, 'y': 40.06131457041113}}]\n",
      "[{'attributes': {'OID@': 41261, 'point_y': 40.06322176, 'objectid': 278358, 'dc_dist': '08', 'psa': 'L', 'dispatch_d': 1144337520000.0, 'dispatch_1': '2006-04-06', 'hour_': 11, 'dc_key': '200608014788', 'location_b': '8400 BLOCK ROOSEVELT BLVD', 'ucr_genera': '600', 'text_gener': 'Thefts', 'point_x': -75.04214125, 'dispatch_t': '11:32:00'}, 'geometry': {'x': -75.04214125011856, 'y': 40.06322175997627}}]\n",
      "[{'attributes': {'OID@': 41882, 'point_y': 40.06322176, 'objectid': 269665, 'dc_dist': '08', 'psa': 'L', 'dispatch_d': 1156046640000.0, 'dispatch_1': '2006-08-20', 'hour_': 0, 'dc_key': '200608037046', 'location_b': '8400 BLOCK ROOSEVELT BLVD', 'ucr_genera': '800', 'text_gener': 'Other Assaults', 'point_x': -75.04214125, 'dispatch_t': '00:04:00'}, 'geometry': {'x': -75.04214125011856, 'y': 40.06322175997627}}]\n",
      "[{'attributes': {'OID@': 42511, 'point_y': 40.06322176, 'objectid': 269523, 'dc_dist': '08', 'psa': 'L', 'dispatch_d': 1141367460000.0, 'dispatch_1': '2006-03-03', 'hour_': 1, 'dc_key': '200608009594', 'location_b': '8400 BLOCK ROOSEVELT BLVD', 'ucr_genera': '1500', 'text_gener': 'Weapon Violations', 'point_x': -75.04214125, 'dispatch_t': '01:31:00'}, 'geometry': {'x': -75.04214125011856, 'y': 40.06322175997627}}]\n",
      "[{'attributes': {'OID@': 44069, 'point_y': 40.06246885, 'objectid': 309432, 'dc_dist': '07', 'psa': 'C', 'dispatch_d': 1151898300000.0, 'dispatch_1': '2006-07-02', 'hour_': 23, 'dc_key': '200607021065', 'location_b': 'ROOSEVELT BLVD /STRAHLE ST', 'ucr_genera': '2100', 'text_gener': 'DRIVING UNDER THE INFLUENCE', 'point_x': -75.04308863, 'dispatch_t': '23:45:00'}, 'geometry': {'x': -75.04308863013614, 'y': 40.06246885025729}}]\n",
      "[{'attributes': {'OID@': 45154, 'point_y': 40.06322176, 'objectid': 295902, 'dc_dist': '08', 'psa': 'L', 'dispatch_d': 1166565360000.0, 'dispatch_1': '2006-12-19', 'hour_': 16, 'dc_key': '200608056566', 'location_b': '8400 BLOCK ROOSEVELT BLVD', 'ucr_genera': '1100', 'text_gener': 'Fraud', 'point_x': -75.04214125, 'dispatch_t': '16:56:00'}, 'geometry': {'x': -75.04214125011856, 'y': 40.06322175997627}}]\n",
      "[{'attributes': {'OID@': 57282, 'point_y': 40.06099428, 'objectid': 380195, 'dc_dist': '07', 'psa': 'C', 'dispatch_d': 1158657000000.0, 'dispatch_1': '2006-09-19', 'hour_': 5, 'dc_key': '200607030408', 'location_b': '8300 BLOCK ROOSEVELT BLVD', 'ucr_genera': '700', 'text_gener': 'Recovered Stolen Motor Vehicle', 'point_x': -75.04379487, 'dispatch_t': '05:10:00'}, 'geometry': {'x': -75.0437948704369, 'y': 40.06099427956241}}]\n",
      "[{'attributes': {'OID@': 58209, 'point_y': 40.06178222, 'objectid': 386948, 'dc_dist': '07', 'psa': 'C', 'dispatch_d': 1140097260000.0, 'dispatch_1': '2006-02-16', 'hour_': 8, 'dc_key': '200607005038', 'location_b': '2400 BLOCK BENSON ST', 'ucr_genera': '700', 'text_gener': 'Recovered Stolen Motor Vehicle', 'point_x': -75.04351402, 'dispatch_t': '08:41:00'}, 'geometry': {'x': -75.04351402025577, 'y': 40.06178221967377}}]\n",
      "[{'attributes': {'OID@': 59635, 'point_y': 40.06322176, 'objectid': 427784, 'dc_dist': '08', 'psa': 'L', 'dispatch_d': 1173485100000.0, 'dispatch_1': '2007-03-09', 'hour_': 19, 'dc_key': '200708010134', 'location_b': '8400 BLOCK ROOSEVELT BLVD', 'ucr_genera': '600', 'text_gener': 'Thefts', 'point_x': -75.04214125, 'dispatch_t': '19:05:00'}, 'geometry': {'x': -75.04214125011856, 'y': 40.06322175997627}}]\n",
      "[{'attributes': {'OID@': 60421, 'point_y': 40.06178222, 'objectid': 432681, 'dc_dist': '07', 'psa': 'C', 'dispatch_d': 1194454320000.0, 'dispatch_1': '2007-11-07', 'hour_': 11, 'dc_key': '200707038617', 'location_b': '2400 BLOCK BENSON ST', 'ucr_genera': '1400', 'text_gener': 'Vandalism/Criminal Mischief', 'point_x': -75.04351402, 'dispatch_t': '11:52:00'}, 'geometry': {'x': -75.04351402025577, 'y': 40.06178221967377}}]\n",
      "[{'attributes': {'OID@': 60428, 'point_y': 40.06246885, 'objectid': 432688, 'dc_dist': '07', 'psa': 'C', 'dispatch_d': 1184389680000.0, 'dispatch_1': '2007-07-14', 'hour_': 1, 'dc_key': '200707022861', 'location_b': 'STRAHLE ST / E ROOSEVELT BLVD', 'ucr_genera': '2100', 'text_gener': 'DRIVING UNDER THE INFLUENCE', 'point_x': -75.04308863, 'dispatch_t': '01:08:00'}, 'geometry': {'x': -75.04308863013614, 'y': 40.06246885025729}}]\n",
      "[{'attributes': {'OID@': 64572, 'point_y': 40.06246885, 'objectid': 464910, 'dc_dist': '07', 'psa': 'C', 'dispatch_d': 1174862160000.0, 'dispatch_1': '2007-03-25', 'hour_': 18, 'dc_key': '200707009173', 'location_b': 'ROOSEVELT BLVD /STRAHLE ST', 'ucr_genera': '1400', 'text_gener': 'Vandalism/Criminal Mischief', 'point_x': -75.04308863, 'dispatch_t': '18:36:00'}, 'geometry': {'x': -75.04308863013614, 'y': 40.06246885025729}}]\n",
      "[{'attributes': {'OID@': 64890, 'point_y': 40.06272076, 'objectid': 462026, 'dc_dist': '07', 'psa': 'C', 'dispatch_d': 1174345920000.0, 'dispatch_1': '2007-03-19', 'hour_': 19, 'dc_key': '200707008474', 'location_b': '8400 BLOCK ROOSEVELT BLVD', 'ucr_genera': '800', 'text_gener': 'Other Assaults', 'point_x': -75.04302826, 'dispatch_t': '19:12:00'}, 'geometry': {'x': -75.04302826044585, 'y': 40.06272076025493}}]\n",
      "[{'attributes': {'OID@': 66020, 'point_y': 40.06303781, 'objectid': 442920, 'dc_dist': '07', 'psa': 'C', 'dispatch_d': 1194099540000.0, 'dispatch_1': '2007-11-03', 'hour_': 10, 'dc_key': '200707038080', 'location_b': '8400 BLOCK E ROOSEVELT BLVD', 'ucr_genera': '1500', 'text_gener': 'Weapon Violations', 'point_x': -75.04289154, 'dispatch_t': '10:19:00'}, 'geometry': {'x': -75.04289154011246, 'y': 40.06303780994705}}]\n"
     ]
    },
    {
     "name": "stdout",
     "output_type": "stream",
     "text": [
      "[{'attributes': {'OID@': 67962, 'point_y': 40.06100237, 'objectid': 424688, 'dc_dist': '07', 'psa': 'C', 'dispatch_d': 1190619960000.0, 'dispatch_1': '2007-09-24', 'hour_': 3, 'dc_key': '200707032493', 'location_b': '8300 BLOCK E ROOSEVELT BLVD', 'ucr_genera': '600', 'text_gener': 'Thefts', 'point_x': -75.04379661, 'dispatch_t': '03:46:00'}, 'geometry': {'x': -75.04379660972575, 'y': 40.061002359970985}}]\n",
      "[{'attributes': {'OID@': 70271, 'point_y': 40.06131457, 'objectid': 485063, 'dc_dist': '08', 'psa': 'L', 'dispatch_d': 1175154720000.0, 'dispatch_1': '2007-03-29', 'hour_': 3, 'dc_key': '200708013202', 'location_b': '8300 BLOCK ROOSEVELT BLVD', 'ucr_genera': '2100', 'text_gener': 'DRIVING UNDER THE INFLUENCE', 'point_x': -75.0429753, 'dispatch_t': '03:52:00'}, 'geometry': {'x': -75.04297530026986, 'y': 40.06131457041113}}]\n",
      "[{'attributes': {'OID@': 71319, 'point_y': 40.06313326, 'objectid': 455791, 'dc_dist': '08', 'psa': 'L', 'dispatch_d': 1188391860000.0, 'dispatch_1': '2007-08-29', 'hour_': 8, 'dc_key': '200708039155', 'location_b': '8300 BLOCK E ROOSEVELT BLVD', 'ucr_genera': '800', 'text_gener': 'Other Assaults', 'point_x': -75.04218487, 'dispatch_t': '08:51:00'}, 'geometry': {'x': -75.04218486993574, 'y': 40.06313326039168}}]\n",
      "[{'attributes': {'OID@': 72684, 'point_y': 40.06370761, 'objectid': 460374, 'dc_dist': '07', 'psa': 'C', 'dispatch_d': 1173424800000.0, 'dispatch_1': '2007-03-09', 'hour_': 2, 'dc_key': '200707007320', 'location_b': '8500 BLOCK ROOSEVELT BLVD', 'ucr_genera': '2100', 'text_gener': 'DRIVING UNDER THE INFLUENCE', 'point_x': -75.04258477, 'dispatch_t': '02:20:00'}, 'geometry': {'x': -75.04258476967135, 'y': 40.06370760971845}}]\n",
      "[{'attributes': {'OID@': 77797, 'point_y': 40.06250768, 'objectid': 528299, 'dc_dist': '07', 'psa': 'C', 'dispatch_d': 1172903100000.0, 'dispatch_1': '2007-03-03', 'hour_': 1, 'dc_key': '200707006644', 'location_b': '8400 BLOCK ROOSEVELT BLVD', 'ucr_genera': '2600', 'text_gener': 'All Other Offenses', 'point_x': -75.04312376, 'dispatch_t': '01:25:00'}, 'geometry': {'x': -75.04312376035324, 'y': 40.06250768028525}}]\n",
      "[{'attributes': {'OID@': 77798, 'point_y': 40.06250768, 'objectid': 528300, 'dc_dist': '07', 'psa': 'C', 'dispatch_d': 1172903100000.0, 'dispatch_1': '2007-03-03', 'hour_': 1, 'dc_key': '200707006645', 'location_b': '8400 BLOCK ROOSEVELT BLVD', 'ucr_genera': '2600', 'text_gener': 'All Other Offenses', 'point_x': -75.04312376, 'dispatch_t': '01:25:00'}, 'geometry': {'x': -75.04312376035324, 'y': 40.06250768028525}}]\n",
      "[{'attributes': {'OID@': 77799, 'point_y': 40.06250768, 'objectid': 528301, 'dc_dist': '07', 'psa': 'C', 'dispatch_d': 1172903100000.0, 'dispatch_1': '2007-03-03', 'hour_': 1, 'dc_key': '200707006646', 'location_b': '8400 BLOCK ROOSEVELT BLVD', 'ucr_genera': '2600', 'text_gener': 'All Other Offenses', 'point_x': -75.04312376, 'dispatch_t': '01:25:00'}, 'geometry': {'x': -75.04312376035324, 'y': 40.06250768028525}}]\n",
      "[{'attributes': {'OID@': 77911, 'point_y': 40.06398515, 'objectid': 527761, 'dc_dist': '08', 'psa': 'M', 'dispatch_d': 1190499480000.0, 'dispatch_1': '2007-09-22', 'hour_': 18, 'dc_key': '200708043406', 'location_b': '8400 BLOCK E ROOSEVELT BLVD', 'ucr_genera': '600', 'text_gener': 'Theft from Vehicle', 'point_x': -75.04181026, 'dispatch_t': '18:18:00'}, 'geometry': {'x': -75.04181025014287, 'y': 40.063985150394444}}]\n",
      "[{'attributes': {'OID@': 78471, 'point_y': 40.06322176, 'objectid': 531485, 'dc_dist': '08', 'psa': 'L', 'dispatch_d': 1168973700000.0, 'dispatch_1': '2007-01-16', 'hour_': 13, 'dc_key': '200708002298', 'location_b': '8400 BLOCK ROOSEVELT BLVD', 'ucr_genera': '600', 'text_gener': 'Thefts', 'point_x': -75.04214125, 'dispatch_t': '13:55:00'}, 'geometry': {'x': -75.04214125011856, 'y': 40.06322175997627}}]\n",
      "[{'attributes': {'OID@': 78740, 'point_y': 40.06398515, 'objectid': 527968, 'dc_dist': '08', 'psa': 'L', 'dispatch_d': 1192939620000.0, 'dispatch_1': '2007-10-21', 'hour_': 0, 'dc_key': '200708048488', 'location_b': '8400 BLOCK E ROOSEVELT BLVD', 'ucr_genera': '1400', 'text_gener': 'Vandalism/Criminal Mischief', 'point_x': -75.04181026, 'dispatch_t': '00:07:00'}, 'geometry': {'x': -75.04181025014287, 'y': 40.063985150394444}}]\n",
      "[{'attributes': {'OID@': 78921, 'point_y': 40.06178222, 'objectid': 526266, 'dc_dist': '07', 'psa': 'C', 'dispatch_d': 1193885880000.0, 'dispatch_1': '2007-10-31', 'hour_': 22, 'dc_key': '200707037785', 'location_b': '2400 BLOCK BENSON ST', 'ucr_genera': '1400', 'text_gener': 'Vandalism/Criminal Mischief', 'point_x': -75.04351402, 'dispatch_t': '22:58:00'}, 'geometry': {'x': -75.04351402025577, 'y': 40.06178221967377}}]\n",
      "[{'attributes': {'OID@': 79593, 'point_y': 40.06193555, 'objectid': 525764, 'dc_dist': '07', 'psa': 'C', 'dispatch_d': 1190392380000.0, 'dispatch_1': '2007-09-21', 'hour_': 12, 'dc_key': '200707032165', 'location_b': '2300 BLOCK BENSON ST', 'ucr_genera': '1400', 'text_gener': 'Vandalism/Criminal Mischief', 'point_x': -75.04409116, 'dispatch_t': '12:33:00'}, 'geometry': {'x': -75.04409116017888, 'y': 40.061935549585996}}]\n",
      "[{'attributes': {'OID@': 79620, 'point_y': 40.06272076, 'objectid': 520611, 'dc_dist': '07', 'psa': 'C', 'dispatch_d': 1191549780000.0, 'dispatch_1': '2007-10-04', 'hour_': 22, 'dc_key': '200707034054', 'location_b': '8400 BLOCK E ROOSEVELT BLVD', 'ucr_genera': '2600', 'text_gener': 'All Other Offenses', 'point_x': -75.04302826, 'dispatch_t': '22:03:00'}, 'geometry': {'x': -75.04302826044585, 'y': 40.06272076025493}}]\n"
     ]
    }
   ],
   "source": [
    "# Auto Detect Time Zones for time conversion\n",
    "# Utilizing data from local time, be careful with your datetimes!\n",
    "from_zone = tz.tzlocal()\n",
    "\n",
    "# From search cursor, construct dictionaries for attributes and geometry\n",
    "for row in cursor:\n",
    "    attribute_dict[cursor.fields[0]] = row[0]\n",
    "    attribute_dict[cursor.fields[1]] = row[1]\n",
    "    attribute_dict[cursor.fields[2]] = row[2]\n",
    "    attribute_dict[cursor.fields[3]] = row[3]\n",
    "    attribute_dict[cursor.fields[4]] = row[4]\n",
    "    \n",
    "    # Date & Time are not calculated properly.  Date is in datetime, but time is a string.\n",
    "    # Reconstruct full string with proper date times\n",
    "    \n",
    "    # Thanks to audience member at GeoDev who made me realize not to code late at night!\n",
    "    # dt_only = row[5].strftime(\"%Y-%m-%d %H:%M:%S\")[10:]\n",
    "    dt_only = row[5].strftime(\"%Y-%m-%d\")\n",
    "    dt_string = dt_only + ' ' + row[13]\n",
    "    datetime_object = datetime.strptime(dt_string, \"%Y-%m-%d %H:%M:%S\")\n",
    "\n",
    "    # Tell the datetime object that it's in EST time zone since datetime objects are 'naive' by default\n",
    "    eastern = datetime_object.replace(tzinfo=from_zone)\n",
    "    \n",
    "    # Convert datetime object into unix timestamp, set as field equivalent\n",
    "    attribute_dict[cursor.fields[5]] = time.mktime(eastern.timetuple()) * 1e3 + eastern.microsecond / 1e3  \n",
    "    \n",
    "    # Continue adding data to proper field mappings\n",
    "    attribute_dict[cursor.fields[6]] = row[6]\n",
    "    attribute_dict[cursor.fields[7]] = row[7]\n",
    "    attribute_dict[cursor.fields[8]] = row[8]\n",
    "    attribute_dict[cursor.fields[9]] = row[9]\n",
    "    attribute_dict[cursor.fields[10]] = row[10]\n",
    "    attribute_dict[cursor.fields[11]] = row[11]\n",
    "    attribute_dict[cursor.fields[12]] = row[12]\n",
    "    attribute_dict[cursor.fields[13]] = row[13]\n",
    "    \n",
    "    # Write geometry to separate dictionary\n",
    "    for pnt in row[14]:\n",
    "        geom_dict['x'] = pnt.X\n",
    "        geom_dict['y'] = pnt.Y\n",
    "        \n",
    "    # Convert dictionaries into a JSON String \n",
    "    att = json.dumps(attribute_dict)\n",
    "    geo = json.dumps(geom_dict)\n",
    "    \n",
    "    # Manipulate the string to reconstruct proper JSON\n",
    "    att.lstrip('{') \n",
    "    att = '{\"attributes\":' + att \n",
    "    geo.lstrip('{')\n",
    "    geo = ',\"geometry\": ' + geo + '}'\n",
    "     \n",
    "    # Add the two json strings together, convert back to diciontary and load into list to prepare for data insert into \n",
    "    # service.\n",
    "    concat = att + geo\n",
    "    data_dict = json.loads(concat)\n",
    "    final_features.append(data_dict)\n",
    "    print(final_features)\n",
    "    \n",
    "    # Add data to Feature Service\n",
    "    flayer.edit_features(adds=final_features, updates=None, deletes=None, gdb_version=None, use_global_ids=False, rollback_on_failure=True)\n",
    "    \n",
    "    # Clear the final list\n",
    "    final_features = []\n",
    "    \n",
    "# Delete in memory cursor on database table\n",
    "del cursor"
   ]
  },
  {
   "cell_type": "code",
   "execution_count": 16,
   "metadata": {},
   "outputs": [
    {
     "name": "stdout",
     "output_type": "stream",
     "text": [
      "55\n"
     ]
    }
   ],
   "source": [
    "# Return total number of records after insert\n",
    "final_result = flayer.query(where='1=1', out_fields='*')\n",
    "print(len(final_result))"
   ]
  },
  {
   "cell_type": "code",
   "execution_count": null,
   "metadata": {},
   "outputs": [],
   "source": []
  }
 ],
 "metadata": {
  "kernelspec": {
   "display_name": "Python 3",
   "language": "python",
   "name": "python3"
  },
  "language_info": {
   "codemirror_mode": {
    "name": "ipython",
    "version": 3
   },
   "file_extension": ".py",
   "mimetype": "text/x-python",
   "name": "python",
   "nbconvert_exporter": "python",
   "pygments_lexer": "ipython3",
   "version": "3.6.6"
  }
 },
 "nbformat": 4,
 "nbformat_minor": 2
}
