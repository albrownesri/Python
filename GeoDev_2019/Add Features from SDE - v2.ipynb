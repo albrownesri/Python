{
 "cells": [
  {
   "cell_type": "markdown",
   "metadata": {},
   "source": [
    "# Add Features from SDE into Feature Service\n",
    "\n",
    "The script utilizes both Esri's Destkop Python library 'arcpy' & the web Python API.  Connect to ArcGIS Online or Enterprise\n",
    "parse through various datapoints and add them into a service."
   ]
  },
  {
   "cell_type": "code",
   "execution_count": 1,
   "metadata": {},
   "outputs": [],
   "source": [
    "# Import modules\n",
    "import json\n",
    "import arcpy\n",
    "import getpass\n",
    "from arcpy import env\n",
    "from arcgis.gis import *"
   ]
  },
  {
   "cell_type": "code",
   "execution_count": 2,
   "metadata": {},
   "outputs": [],
   "source": [
    "# Funtion to delete temporary files\n",
    "def delete_json(temp_file, value):\n",
    "    if value == 0:\n",
    "        if os.path.exists(temp_file):\n",
    "            try:\n",
    "                os.remove(temp_file)\n",
    "            except OSError as e:  ## if failed, report it back to the user ##\n",
    "                print(\"Error: %s - %s.\" % (e.filename, e.strerror))\n",
    "    else:\n",
    "        try:\n",
    "            if arcpy.Exists(temp_file):\n",
    "                arcpy.Delete_management(temp_file)\n",
    "            else:\n",
    "                pass\n",
    "        except (arcpy.ExecuteError, arcpy.ExecuteWarning) as e:\n",
    "            print(\"Error: %s\" % e)"
   ]
  },
  {
   "cell_type": "code",
   "execution_count": 3,
   "metadata": {},
   "outputs": [],
   "source": [
    "# Yield successive n-sized chunks from l.\n",
    "def chunks(l, n):\n",
    "    for i in range(0, len(l), n):\n",
    "        yield l[i:i + n]"
   ]
  },
  {
   "cell_type": "markdown",
   "metadata": {},
   "source": [
    "## Connect to ArcGIS Online - Python API\n",
    "Estbalish connection, search for content by name to return the item's ID.  Once found, connect to relevant index dataset, and truncate the service in preparation for data load."
   ]
  },
  {
   "cell_type": "code",
   "execution_count": 4,
   "metadata": {},
   "outputs": [
    {
     "name": "stdout",
     "output_type": "stream",
     "text": [
      "········\n"
     ]
    }
   ],
   "source": [
    "# Utilize getpass for hiding password for demonstration purposes\n",
    "password = getpass.getpass()"
   ]
  },
  {
   "cell_type": "code",
   "execution_count": 5,
   "metadata": {},
   "outputs": [],
   "source": [
    "# Establish connection to a WebGIS organization\n",
    "# ArcGIS Online\n",
    "gis = GIS('http://www.arcgis.com', 'abrown_citygov', password)\n",
    "\n",
    "# For ArcGIS Enterprise, connect as \"https:<server DNS>/<web adaptor for portal>\"\n",
    "# Example: GIS('http://neenterprise.esri.com/portal', 'username', password)  "
   ]
  },
  {
   "cell_type": "code",
   "execution_count": 6,
   "metadata": {},
   "outputs": [
    {
     "data": {
      "text/plain": [
       "[<Item title:\"PhillyCrimeExample\" type:Feature Layer Collection owner:abrown_citygov>]"
      ]
     },
     "execution_count": 6,
     "metadata": {},
     "output_type": "execute_result"
    }
   ],
   "source": [
    "# Search by title\n",
    "search = gis.content.search(query=\"title: PhillyCrimeExample\", item_type=\"Feature Service\")\n",
    "search"
   ]
  },
  {
   "cell_type": "code",
   "execution_count": 7,
   "metadata": {},
   "outputs": [
    {
     "data": {
      "text/plain": [
       "'1d1ee09e66084db0a189ee0e86ba9689'"
      ]
     },
     "execution_count": 7,
     "metadata": {},
     "output_type": "execute_result"
    }
   ],
   "source": [
    "# From search list, return the index for service one is interseted in connecting to\n",
    "item = search[0]\n",
    "itemID = item.id\n",
    "itemID"
   ]
  },
  {
   "cell_type": "code",
   "execution_count": 8,
   "metadata": {},
   "outputs": [
    {
     "data": {
      "text/plain": [
       "<FeatureLayer url:\"https://services6.arcgis.com/0p6i4J6xhQas4Unf/arcgis/rest/services/PhillyCrimeExample/FeatureServer/0\">"
      ]
     },
     "execution_count": 8,
     "metadata": {},
     "output_type": "execute_result"
    }
   ],
   "source": [
    "# Establish connection to Feature Layer item\n",
    "feature_layer_item = gis.content.get(itemID)\n",
    "flayers = feature_layer_item.layers\n",
    "flayer = flayers[0]\n",
    "flayer"
   ]
  },
  {
   "cell_type": "code",
   "execution_count": 25,
   "metadata": {},
   "outputs": [
    {
     "name": "stdout",
     "output_type": "stream",
     "text": [
      "0\n"
     ]
    }
   ],
   "source": [
    "# Truncate the dataset, cannot be utlized on layers with synch\n",
    "flayer.manager.truncate()\n",
    "\n",
    "# Alternative Option, utilize delete_features method in class FeatureLayer\n",
    "# flayer.delete_features(where=\"1=1\")\n",
    "\n",
    "# Return total number of records after insert\n",
    "total_result = flayer.query(where='1=1', out_fields='*')\n",
    "print(len(total_result))"
   ]
  },
  {
   "cell_type": "markdown",
   "metadata": {},
   "source": [
    "## Connect to Enterprise Geodatabase\n",
    "\n",
    "Establish connection to enterprise geodatabase.  List feature classes, locate dataset of interest. Convert dataset into a json file. Loop through JSON file to pull out features and add to a service."
   ]
  },
  {
   "cell_type": "code",
   "execution_count": 26,
   "metadata": {},
   "outputs": [],
   "source": [
    "# Establish arcpy desktop workspace/scratch workspaces\n",
    "wspace = r'C:\\Users\\alex8694\\AppData\\Roaming\\ESRI\\Desktop10.6\\ArcCatalog\\Enterprise_SDE.sde'\n",
    "env.workspace = wspace\n",
    "env.scratchWorkspace = r\"D:\\Scratch\\Scratch.gdb\"\n",
    "\n",
    "# Create placeholder for temporary json file\n",
    "temp_json = r\"D:\\jsonfeatures1.json\"\n",
    "delete_json(temp_json, 0)"
   ]
  },
  {
   "cell_type": "code",
   "execution_count": 27,
   "metadata": {},
   "outputs": [],
   "source": [
    "# List Feature Classes in Enterprise Geodatabase\n",
    "fclist = arcpy.ListFeatureClasses()"
   ]
  },
  {
   "cell_type": "code",
   "execution_count": 28,
   "metadata": {},
   "outputs": [],
   "source": [
    "# Locate dataset of interest\n",
    "for item in fclist:\n",
    "    if item == 'Enterprise.SDE.PhillyCrimeSubset1':\n",
    "        # Create temporary in memory layer of dataset\n",
    "        arcpy.MakeFeatureLayer_management(item, \"layer\")\n",
    "        \n",
    "        # Convert to temporary json file\n",
    "        arcpy.FeaturesToJSON_conversion(\"layer\", temp_json)\n",
    "        \n",
    "        # Delete temporary memory layer\n",
    "        arcpy.Delete_management(\"layer\")\n",
    "    else:\n",
    "        pass"
   ]
  },
  {
   "cell_type": "markdown",
   "metadata": {},
   "source": [
    "## Prepare data for insert into Feature Service\n",
    "\n",
    "Manipulate the data coming from arcpy insert cursor, be aware of your time zone properties, add to a service."
   ]
  },
  {
   "cell_type": "code",
   "execution_count": 23,
   "metadata": {},
   "outputs": [
    {
     "name": "stdout",
     "output_type": "stream",
     "text": [
      "1873\n"
     ]
    }
   ],
   "source": [
    "# Open json file, read in features section\n",
    "file = open(temp_json)\n",
    "content = json.loads(file.read())\n",
    "new_features = (content[\"features\"])\n",
    "\n",
    "# Utilize the chunks generator to create groups of 4000 features\n",
    "# Be aware of your data type.  Complex geometry polygons, the maximum you might be able to chunk is 500-1000,\n",
    "# Starting to approach the limits of add, look at Appending or Overwriting your service content.\n",
    "new_items = chunks(new_features, 4000)\n",
    "\n",
    "# Loop through each grouping of data, add to service.\n",
    "for item in new_items:\n",
    "    print(len(item))\n",
    "    try:\n",
    "        flayer.edit_features(adds=item, updates=None, deletes=None, gdb_version=None, use_global_ids=False,\n",
    "                             rollback_on_failure=True)\n",
    "    except ConnectionResetError as e:\n",
    "        print(e)\n",
    "        # Might want to add additional loops or trys if failed.\n",
    "        pass\n",
    "    except ConnectionError as e:\n",
    "        print(e)\n",
    "        pass\n",
    "        # Might want to add additional loops or trys if failed.\n",
    "    \n",
    "file.close()"
   ]
  },
  {
   "cell_type": "code",
   "execution_count": 24,
   "metadata": {},
   "outputs": [
    {
     "name": "stdout",
     "output_type": "stream",
     "text": [
      "1873\n"
     ]
    }
   ],
   "source": [
    "# Return total number of records after insert\n",
    "query_result = flayer.query(where='1=1', out_fields='*')\n",
    "print(len(query_result))\n",
    "\n",
    "# Delete temporary file\n",
    "delete_json(temp_json, 0)"
   ]
  },
  {
   "cell_type": "code",
   "execution_count": null,
   "metadata": {},
   "outputs": [],
   "source": []
  }
 ],
 "metadata": {
  "kernelspec": {
   "display_name": "Python 3",
   "language": "python",
   "name": "python3"
  },
  "language_info": {
   "codemirror_mode": {
    "name": "ipython",
    "version": 3
   },
   "file_extension": ".py",
   "mimetype": "text/x-python",
   "name": "python",
   "nbconvert_exporter": "python",
   "pygments_lexer": "ipython3",
   "version": "3.6.6"
  }
 },
 "nbformat": 4,
 "nbformat_minor": 2
}
