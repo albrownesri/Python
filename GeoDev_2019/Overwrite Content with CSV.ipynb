{
 "cells": [
  {
   "cell_type": "markdown",
   "metadata": {},
   "source": [
    "# Overwrite Content with CSV\n",
    "\n",
    "The script utilizes pyodbc and pandas dataframes to read in data from a SQL Database.  Export panda dataframe into CSV\n",
    "file, overwrite service in ArcGIS Online."
   ]
  },
  {
   "cell_type": "code",
   "execution_count": 1,
   "metadata": {},
   "outputs": [],
   "source": [
    "# Import libraries\n",
    "import pyodbc\n",
    "import pandas as pd\n",
    "from arcgis.gis import GIS\n",
    "from arcgis import features\n",
    "from getpass import getpass "
   ]
  },
  {
   "cell_type": "code",
   "execution_count": 4,
   "metadata": {},
   "outputs": [
    {
     "data": {
      "text/html": [
       "<div>\n",
       "<style scoped>\n",
       "    .dataframe tbody tr th:only-of-type {\n",
       "        vertical-align: middle;\n",
       "    }\n",
       "\n",
       "    .dataframe tbody tr th {\n",
       "        vertical-align: top;\n",
       "    }\n",
       "\n",
       "    .dataframe thead th {\n",
       "        text-align: right;\n",
       "    }\n",
       "</style>\n",
       "<table border=\"1\" class=\"dataframe\">\n",
       "  <thead>\n",
       "    <tr style=\"text-align: right;\">\n",
       "      <th></th>\n",
       "      <th>Latitude</th>\n",
       "      <th>Longitude</th>\n",
       "      <th>dc_dist</th>\n",
       "      <th>dispatch_1</th>\n",
       "      <th>dispatch_t</th>\n",
       "    </tr>\n",
       "  </thead>\n",
       "  <tbody>\n",
       "    <tr>\n",
       "      <th>0</th>\n",
       "      <td>40.062614</td>\n",
       "      <td>-75.043076</td>\n",
       "      <td>07</td>\n",
       "      <td>2015-04-10</td>\n",
       "      <td>02:24:00</td>\n",
       "    </tr>\n",
       "    <tr>\n",
       "      <th>1</th>\n",
       "      <td>40.063133</td>\n",
       "      <td>-75.042185</td>\n",
       "      <td>08</td>\n",
       "      <td>2015-09-18</td>\n",
       "      <td>11:50:00</td>\n",
       "    </tr>\n",
       "    <tr>\n",
       "      <th>2</th>\n",
       "      <td>40.063985</td>\n",
       "      <td>-75.041810</td>\n",
       "      <td>08</td>\n",
       "      <td>2015-08-19</td>\n",
       "      <td>14:38:00</td>\n",
       "    </tr>\n",
       "    <tr>\n",
       "      <th>3</th>\n",
       "      <td>40.063133</td>\n",
       "      <td>-75.042185</td>\n",
       "      <td>08</td>\n",
       "      <td>2015-04-30</td>\n",
       "      <td>22:53:00</td>\n",
       "    </tr>\n",
       "    <tr>\n",
       "      <th>4</th>\n",
       "      <td>40.063133</td>\n",
       "      <td>-75.042185</td>\n",
       "      <td>08</td>\n",
       "      <td>2015-08-07</td>\n",
       "      <td>10:50:00</td>\n",
       "    </tr>\n",
       "  </tbody>\n",
       "</table>\n",
       "</div>"
      ],
      "text/plain": [
       "    Latitude  Longitude dc_dist  dispatch_1 dispatch_t\n",
       "0  40.062614 -75.043076      07  2015-04-10   02:24:00\n",
       "1  40.063133 -75.042185      08  2015-09-18   11:50:00\n",
       "2  40.063985 -75.041810      08  2015-08-19   14:38:00\n",
       "3  40.063133 -75.042185      08  2015-04-30   22:53:00\n",
       "4  40.063133 -75.042185      08  2015-08-07   10:50:00"
      ]
     },
     "execution_count": 4,
     "metadata": {},
     "output_type": "execute_result"
    }
   ],
   "source": [
    "# Connect using pyodbc into SQL Server\n",
    "sql_conn = pyodbc.connect(\n",
    "    'DRIVER={ODBC Driver 13 for SQL Server}; SERVER=abrown10; DATABASE=Enterprise; Trusted_Connection=yes')\n",
    "\n",
    "# Establish csv output\n",
    "csv_output = r'D:\\Scratch\\PhillyData1.csv'\n",
    "\n",
    "# Construct query and execute\n",
    "query = \"SELECT point_y, point_x, dc_dist, dispatch_1, dispatch_t from SDE.PHILLYCRIMESUBSET\"\n",
    "\n",
    "# Read in query into Panda dataframe\n",
    "df = pd.read_sql(query, sql_conn)\n",
    "\n",
    "# Establish Columns and show header\n",
    "df.columns = ['Latitude', 'Longitude', 'dc_dist', 'dispatch_1', 'dispatch_t']\n",
    "df.head()"
   ]
  },
  {
   "cell_type": "code",
   "execution_count": 5,
   "metadata": {},
   "outputs": [],
   "source": [
    "# Export to a csv file\n",
    "df.to_csv(csv_output, sep=',', index=False)"
   ]
  },
  {
   "cell_type": "code",
   "execution_count": 29,
   "metadata": {},
   "outputs": [
    {
     "data": {
      "text/html": [
       "<div>\n",
       "<style scoped>\n",
       "    .dataframe tbody tr th:only-of-type {\n",
       "        vertical-align: middle;\n",
       "    }\n",
       "\n",
       "    .dataframe tbody tr th {\n",
       "        vertical-align: top;\n",
       "    }\n",
       "\n",
       "    .dataframe thead th {\n",
       "        text-align: right;\n",
       "    }\n",
       "</style>\n",
       "<table border=\"1\" class=\"dataframe\">\n",
       "  <thead>\n",
       "    <tr style=\"text-align: right;\">\n",
       "      <th></th>\n",
       "      <th>Latitude</th>\n",
       "      <th>Longitude</th>\n",
       "      <th>dc_dist</th>\n",
       "      <th>dispatch_1</th>\n",
       "      <th>dispatch_t</th>\n",
       "    </tr>\n",
       "  </thead>\n",
       "  <tbody>\n",
       "    <tr>\n",
       "      <th>0</th>\n",
       "      <td>40.062614</td>\n",
       "      <td>-75.043076</td>\n",
       "      <td>7</td>\n",
       "      <td>2015-04-10</td>\n",
       "      <td>02:24:00</td>\n",
       "    </tr>\n",
       "    <tr>\n",
       "      <th>1</th>\n",
       "      <td>40.063133</td>\n",
       "      <td>-75.042185</td>\n",
       "      <td>8</td>\n",
       "      <td>2015-09-18</td>\n",
       "      <td>11:50:00</td>\n",
       "    </tr>\n",
       "    <tr>\n",
       "      <th>2</th>\n",
       "      <td>40.063985</td>\n",
       "      <td>-75.041810</td>\n",
       "      <td>8</td>\n",
       "      <td>2015-08-19</td>\n",
       "      <td>14:38:00</td>\n",
       "    </tr>\n",
       "    <tr>\n",
       "      <th>3</th>\n",
       "      <td>40.063133</td>\n",
       "      <td>-75.042185</td>\n",
       "      <td>8</td>\n",
       "      <td>2015-04-30</td>\n",
       "      <td>22:53:00</td>\n",
       "    </tr>\n",
       "    <tr>\n",
       "      <th>4</th>\n",
       "      <td>40.063133</td>\n",
       "      <td>-75.042185</td>\n",
       "      <td>8</td>\n",
       "      <td>2015-08-07</td>\n",
       "      <td>10:50:00</td>\n",
       "    </tr>\n",
       "  </tbody>\n",
       "</table>\n",
       "</div>"
      ],
      "text/plain": [
       "    Latitude  Longitude  dc_dist  dispatch_1 dispatch_t\n",
       "0  40.062614 -75.043076        7  2015-04-10   02:24:00\n",
       "1  40.063133 -75.042185        8  2015-09-18   11:50:00\n",
       "2  40.063985 -75.041810        8  2015-08-19   14:38:00\n",
       "3  40.063133 -75.042185        8  2015-04-30   22:53:00\n",
       "4  40.063133 -75.042185        8  2015-08-07   10:50:00"
      ]
     },
     "execution_count": 29,
     "metadata": {},
     "output_type": "execute_result"
    }
   ],
   "source": [
    "# Read the initial csv\n",
    "csv1 = csv_output\n",
    "cities_df_1 = pd.read_csv(csv1)\n",
    "cities_df_1.head()"
   ]
  },
  {
   "cell_type": "code",
   "execution_count": 7,
   "metadata": {},
   "outputs": [
    {
     "data": {
      "text/plain": [
       "(55, 5)"
      ]
     },
     "execution_count": 7,
     "metadata": {},
     "output_type": "execute_result"
    }
   ],
   "source": [
    "# Print the number of records & columns\n",
    "cities_df_1.shape"
   ]
  },
  {
   "cell_type": "code",
   "execution_count": 8,
   "metadata": {},
   "outputs": [
    {
     "name": "stdout",
     "output_type": "stream",
     "text": [
      "Enter password: ········\n"
     ]
    }
   ],
   "source": [
    "# Connect to the GIS\n",
    "gis = GIS(\"https://www.arcgis.com\",'abrown_citygov')"
   ]
  },
  {
   "cell_type": "code",
   "execution_count": 31,
   "metadata": {},
   "outputs": [],
   "source": [
    "# Add the csv as an item in ArcGIS Online/Enterprise\n",
    "item_prop = {'title':'Philly Crime GeoDev Test'}\n",
    "csv_item = gis.content.add(item_properties=item_prop, data=csv1)"
   ]
  },
  {
   "cell_type": "code",
   "execution_count": 32,
   "metadata": {},
   "outputs": [
    {
     "data": {
      "text/html": [
       "<div class=\"item_container\" style=\"height: auto; overflow: hidden; border: 1px solid #cfcfcf; border-radius: 2px; background: #f6fafa; line-height: 1.21429em; padding: 10px;\">\n",
       "                    <div class=\"item_left\" style=\"width: 210px; float: left;\">\n",
       "                       <a href='https://citygov.maps.arcgis.com/home/item.html?id=ecf4bffbdc2c4915b39294620565d530' target='_blank'>\n",
       "                        <img src='http://static.arcgis.com/images/desktopapp.png' class=\"itemThumbnail\">\n",
       "                       </a>\n",
       "                    </div>\n",
       "\n",
       "                    <div class=\"item_right\"     style=\"float: none; width: auto; overflow: hidden;\">\n",
       "                        <a href='https://citygov.maps.arcgis.com/home/item.html?id=ecf4bffbdc2c4915b39294620565d530' target='_blank'><b>Philly Crime GeoDev Test</b>\n",
       "                        </a>\n",
       "                        <br/><img src='https://citygov.maps.arcgis.com/home/js/jsapi/esri/css/images/item_type_icons/layers16.png' style=\"vertical-align:middle;\">CSV by abrown_citygov\n",
       "                        <br/>Last Modified: March 15, 2019\n",
       "                        <br/>0 comments, 0 views\n",
       "                    </div>\n",
       "                </div>\n",
       "                "
      ],
      "text/plain": [
       "<Item title:\"Philly Crime GeoDev Test\" type:CSV owner:abrown_citygov>"
      ]
     },
     "execution_count": 32,
     "metadata": {},
     "output_type": "execute_result"
    }
   ],
   "source": [
    "# Publish the csv item as a feature service\n",
    "new_item = csv_item.id\n",
    "feature_layer_item = gis.content.get(new_item)\n",
    "feature_layer_item.publish()\n",
    "feature_layer_item"
   ]
  },
  {
   "cell_type": "code",
   "execution_count": 33,
   "metadata": {},
   "outputs": [
    {
     "data": {
      "text/plain": [
       "[<Item title:\"Philly Crime GeoDev Test\" type:Feature Layer Collection owner:abrown_citygov>]"
      ]
     },
     "execution_count": 33,
     "metadata": {},
     "output_type": "execute_result"
    }
   ],
   "source": [
    "# Search by title\n",
    "search = gis.content.search(query=\"title: Philly Crime GeoDev Test\", item_type=\"Feature Service\")\n",
    "search"
   ]
  },
  {
   "cell_type": "code",
   "execution_count": 34,
   "metadata": {},
   "outputs": [
    {
     "data": {
      "text/plain": [
       "'4f827de3f54e4d22b57e15447343d793'"
      ]
     },
     "execution_count": 34,
     "metadata": {},
     "output_type": "execute_result"
    }
   ],
   "source": [
    "# From search list, return the index for service one is interseted in connecting to\n",
    "item = search[0]\n",
    "itemID = item.id\n",
    "itemID"
   ]
  },
  {
   "cell_type": "code",
   "execution_count": 35,
   "metadata": {},
   "outputs": [],
   "source": [
    "# Establish connection to Feature Layer item\n",
    "feature_layer_new = gis.content.get(itemID)"
   ]
  },
  {
   "cell_type": "code",
   "execution_count": 39,
   "metadata": {},
   "outputs": [
    {
     "data": {
      "application/vnd.jupyter.widget-view+json": {
       "model_id": "c90d048a2c5a43acb559ea00ef525736",
       "version_major": 2,
       "version_minor": 0
      },
      "text/plain": [
       "MapView(layout=Layout(height='400px', width='100%'))"
      ]
     },
     "metadata": {},
     "output_type": "display_data"
    },
    {
     "data": {
      "text/html": [
       "<div class=\"map-static-img-preview-d8f0f71b-7fda-4812-94da-31015e333ef9\"><img src=\"\"></img></div>"
      ],
      "text/plain": [
       "<IPython.core.display.HTML object>"
      ]
     },
     "metadata": {},
     "output_type": "display_data"
    }
   ],
   "source": [
    "# Create a new map, zoom to Rhawnhurst, PA (Neighborhood of Philadelphia)\n",
    "map1 = gis.map(\"Rhawnhurst, PA\")\n",
    "map1"
   ]
  },
  {
   "cell_type": "code",
   "execution_count": 40,
   "metadata": {},
   "outputs": [],
   "source": [
    "# Add new service into the map\n",
    "map1.add_layer(feature_layer_new)"
   ]
  }
 ],
 "metadata": {
  "kernelspec": {
   "display_name": "Python 3",
   "language": "python",
   "name": "python3"
  },
  "language_info": {
   "codemirror_mode": {
    "name": "ipython",
    "version": 3
   },
   "file_extension": ".py",
   "mimetype": "text/x-python",
   "name": "python",
   "nbconvert_exporter": "python",
   "pygments_lexer": "ipython3",
   "version": "3.6.6"
  }
 },
 "nbformat": 4,
 "nbformat_minor": 2
}
